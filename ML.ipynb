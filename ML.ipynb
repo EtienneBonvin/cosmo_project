{
 "cells": [
  {
   "cell_type": "markdown",
   "metadata": {},
   "source": [
    "# Approximating electromagnetic shielding using machine learning\n",
    "\n",
    "The goal of this notebook is to apply standard machine learning techniques to our dataset. We know that the lab already obtained a RMSE of $0.6$ using kernel ridge regression. We seek to validate this result in first place and then we eventually expect to improve it. In order to do so, we try various loss functions and regulizers.\n",
    "\n",
    "It is also important to note that we are working here on a reduced dataset. Recall that our initial dataset was pretty large and that we found different ways to reduce the feature space without influencing too much the quality of our predictions."
   ]
  },
  {
   "cell_type": "code",
   "execution_count": 1,
   "metadata": {},
   "outputs": [],
   "source": [
    "%load_ext autoreload\n",
    "%autoreload 2"
   ]
  },
  {
   "cell_type": "code",
   "execution_count": 2,
   "metadata": {},
   "outputs": [],
   "source": [
    "import numpy as np\n",
    "from src.regressions import *\n",
    "import pandas as pd\n",
    "import matplotlib.pyplot as plt"
   ]
  },
  {
   "cell_type": "code",
   "execution_count": 3,
   "metadata": {},
   "outputs": [],
   "source": [
    "DATA_FOLDER = \"data/\"\n",
    "X = np.load(DATA_FOLDER + \"ML/x_train.npy\")\n",
    "y = np.load(DATA_FOLDER + \"ML/y.npy\")\n",
    "\n",
    "np.random.seed(1)"
   ]
  },
  {
   "cell_type": "code",
   "execution_count": 4,
   "metadata": {},
   "outputs": [
    {
     "name": "stdout",
     "output_type": "stream",
     "text": [
      "X: (30349, 4500)\n",
      "y: (30349,)\n"
     ]
    }
   ],
   "source": [
    "print(\"X: \" + str(X.shape))\n",
    "print(\"y: \" + str(y.shape))"
   ]
  },
  {
   "cell_type": "markdown",
   "metadata": {},
   "source": [
    "## Idea 1: Good ol' least squares (MSE loss without regularizer)"
   ]
  },
  {
   "cell_type": "markdown",
   "metadata": {},
   "source": [
    "We first try a standard and naive implementation of `least_squares` on the full dataset. This will give us a first raw result:"
   ]
  },
  {
   "cell_type": "code",
   "execution_count": 5,
   "metadata": {},
   "outputs": [
    {
     "name": "stdout",
     "output_type": "stream",
     "text": [
      "Loss = 26.16344670274864\n"
     ]
    }
   ],
   "source": [
    "def run_least_squares():\n",
    "    w_star = least_squares(y, X)\n",
    "    loss = rmse(y, X, w_star)\n",
    "    print(\"Loss = \" + str(loss))\n",
    "\n",
    "run_least_squares()"
   ]
  },
  {
   "cell_type": "markdown",
   "metadata": {},
   "source": [
    "We see that the loss is quite large! We hope to do better by using polynomial expansion and 4-fold cross-validation to find the best `degree`:"
   ]
  },
  {
   "cell_type": "code",
   "execution_count": 6,
   "metadata": {},
   "outputs": [],
   "source": [
    "k_fold = 4\n",
    "k_indices = build_k_indices(y, k_fold)\n",
    "\n",
    "def run_least_squares_poly():\n",
    "    rmse_tr = []\n",
    "    rmse_te = []\n",
    "\n",
    "    for degree in range(4):\n",
    "        rmse_tr_tmp = []\n",
    "        rmse_te_tmp = []\n",
    "        for k in range(k_fold):\n",
    "            try:\n",
    "                loss_tr, loss_te, _ = cross_validation(y, X, k_indices, k, degree, least_squares)\n",
    "                rmse_tr_tmp.append(loss_tr)\n",
    "                rmse_te_tmp.append(loss_te)\n",
    "            except:\n",
    "                print(\"Could not inverse the matrix\")\n",
    "        rmse_tr.append(np.mean(rmse_tr_tmp))\n",
    "        rmse_te.append(np.mean(rmse_te_tmp))\n",
    "    pd.DataFrame([rmse_tr, rmse_te]).add_prefix(\"Degree \").rename({0: \"Train error\", 1: \"Test error\"}).head()\n",
    "    return rmse_tr, rmse_te"
   ]
  },
  {
   "cell_type": "code",
   "execution_count": 7,
   "metadata": {},
   "outputs": [
    {
     "data": {
      "text/plain": [
       "([3.213171631581826,\n",
       "  0.40145325242460417,\n",
       "  0.2659636431823623,\n",
       "  0.1652126444248406],\n",
       " [3.2132414414047386,\n",
       "  0.5357537373798815,\n",
       "  0.6076663576371552,\n",
       "  0.853874297553556])"
      ]
     },
     "execution_count": 7,
     "metadata": {},
     "output_type": "execute_result"
    }
   ],
   "source": [
    "run_least_squares_poly()"
   ]
  },
  {
   "cell_type": "markdown",
   "metadata": {},
   "source": [
    "The result above is composed of two arrays. The first one contains at index $i$ the __train error__ for polynomial expansion of degree $i$. Train error does not bring much useful information, hence we rather inspect the second array, representing the __test error__. It is constructed in an identical way.\n",
    "\n",
    "We see that polynomial expansion provides better results. In particular, the best `degree` is 1.\n",
    "\n",
    "__By adding a single feature of constant values, we manage to decrease the RMSE from 26 to 0.7!__"
   ]
  },
  {
   "cell_type": "markdown",
   "metadata": {},
   "source": [
    "## Idea 2: Ridge regression (MSE loss with $\\mathcal{L}_2$-regularizer)"
   ]
  },
  {
   "cell_type": "markdown",
   "metadata": {},
   "source": [
    "Since least squares optimize `MSE` as loss function, we decide to tackle the question of overitting immediately and consider adding to least squares a regularizer for the complexity of the model to be part of the optimization as well."
   ]
  },
  {
   "cell_type": "code",
   "execution_count": 8,
   "metadata": {},
   "outputs": [],
   "source": [
    "k_fold = 4\n",
    "k_indices = build_k_indices(y, k_fold)\n",
    "\n",
    "def run_ridge_regression():\n",
    "    for lambda_ in np.logspace(-5, 1, 7):\n",
    "        print(\"Lambda = \" + str(lambda_))\n",
    "        for degree in range(1, 3):\n",
    "            print(\"    Degree = \" + str(degree))\n",
    "            rmse_tr_tmp = []\n",
    "            rmse_te_tmp = []\n",
    "            for k in range(k_fold):\n",
    "                ridge_lambda = lambda y, X: ridge_regression(y, X, lambda_)\n",
    "                loss_tr, loss_te, _ = cross_validation(y, X, k_indices, k, degree, ridge_lambda)\n",
    "                rmse_tr_tmp.append(loss_tr)\n",
    "                rmse_te_tmp.append(loss_te)\n",
    "            print(\"        \" + str(np.mean(rmse_tr_tmp)))\n",
    "            print(\"        \" + str(np.mean(rmse_te_tmp)))"
   ]
  },
  {
   "cell_type": "code",
   "execution_count": 9,
   "metadata": {},
   "outputs": [
    {
     "name": "stdout",
     "output_type": "stream",
     "text": [
      "Lambda = 1e-05\n",
      "    Degree = 1\n",
      "        0.40145325242460456\n",
      "        0.5357537372320587\n",
      "    Degree = 2\n",
      "        0.26596380103399736\n",
      "        0.607666163440107\n",
      "Lambda = 0.0001\n",
      "    Degree = 1\n",
      "        0.4014532524246221\n",
      "        0.5357537359016747\n",
      "    Degree = 2\n",
      "        0.2659683198847004\n",
      "        0.6076760153324785\n",
      "Lambda = 0.001\n",
      "    Degree = 1\n",
      "        0.4014532524263871\n",
      "        0.535753722599882\n",
      "    Degree = 2\n",
      "        0.26597880149891057\n",
      "        0.6077023419396217\n",
      "Lambda = 0.01\n",
      "    Degree = 1\n",
      "        0.40145325260288683\n",
      "        0.5357535897864518\n",
      "    Degree = 2\n",
      "        0.26598240518404337\n",
      "        0.60770831648428\n",
      "Lambda = 0.1\n",
      "    Degree = 1\n",
      "        0.40145327025267574\n",
      "        0.535752282101457\n",
      "    Degree = 2\n",
      "        0.26605512986311564\n",
      "        0.6078706202481085\n",
      "Lambda = 1.0\n",
      "    Degree = 1\n",
      "        0.40145503506146574\n",
      "        0.5357412499056584\n",
      "    Degree = 2\n",
      "        0.26837515562810677\n",
      "        0.6137603953993617\n",
      "Lambda = 10.0\n",
      "    Degree = 1\n",
      "        0.4016313108003009\n",
      "        0.535835073442734\n",
      "    Degree = 2\n",
      "        0.28025537342649093\n",
      "        0.6431991791448415\n"
     ]
    }
   ],
   "source": [
    "run_ridge_regression()"
   ]
  },
  {
   "cell_type": "markdown",
   "metadata": {},
   "source": [
    "We see that all results are quite close to each other but if we pay attention to the details, we see that the best test error is achieved with a regulizer of $\\lambda = 1$ for `degree 1` and $\\lambda = 10^{-4}$ for `degree 2`. In all cases, `degree 1` remains our best degree value and we already reach __RMSE of 0.53__!\n",
    "\n",
    "Since the results are almost equal with and without a regulizer and provided that the test error increases for larger values of $\\lambda$, we deduce that the model is not overfitted and that a $\\mathcal{L}_2$ regulizer is useless..."
   ]
  },
  {
   "cell_type": "markdown",
   "metadata": {},
   "source": [
    "## Idea 3: Lasso (MSE loss with $\\mathcal{L}_1$-regularizer)"
   ]
  },
  {
   "cell_type": "markdown",
   "metadata": {},
   "source": [
    "In the section above, we saw that $\\mathcal{L}_2$-regularization did not prove useful. For completeness, we try $\\mathcal{L}_1$-regularization as well. Since there exists no analytical solution to the minimum of the `lasso` loss, we decide to use `mini-batch-SGD`."
   ]
  },
  {
   "cell_type": "code",
   "execution_count": 10,
   "metadata": {},
   "outputs": [],
   "source": [
    "def run_lasso():\n",
    "    for lambda_ in np.concatenate([[0], np.logspace(-5, 2, 8)]):\n",
    "        print(\"lambda = \" + str(lambda_))\n",
    "        for degree in range(1, 3):\n",
    "            print(\"    degree = \" + str(degree))\n",
    "            rmse_tr_tmp = []\n",
    "            rmse_te_tmp = []\n",
    "    \n",
    "            for k in range(k_fold):\n",
    "                lasso_lambda = lambda y, X, w: lasso(y, X, w, lambda_)\n",
    "                lasso_stoch_grad_lambda = lambda y, X, w: lasso_stoch_grad(y, X, w, lambda_)\n",
    "                loss_lambda = lambda y, X: stochastic_gradient_descent(y, X, np.zeros(X.shape[1]), 100, 1e-1, lasso_lambda, lasso_stoch_grad_lambda, batch_size = 100)\n",
    "                loss_tr, loss_te, _ = cross_validation(y, X, k_indices, k, degree, loss_lambda)\n",
    "                rmse_tr_tmp.append(loss_tr)\n",
    "                rmse_te_tmp.append(loss_te)\n",
    "            print(\"        \" + str(np.mean(rmse_tr_tmp)))\n",
    "            print(\"        \" + str(np.mean(rmse_te_tmp)))"
   ]
  },
  {
   "cell_type": "markdown",
   "metadata": {},
   "source": [
    "Before we run it, we try a `stochastic_gradient_descent` using a `lasso`, just to see what we can expect:"
   ]
  },
  {
   "cell_type": "code",
   "execution_count": 41,
   "metadata": {},
   "outputs": [],
   "source": [
    "lambda_ = 0\n",
    "lasso_lambda = lambda y, X, w: lasso(y, X, w, lambda_)\n",
    "lasso_stoch_grad_lambda = lambda y, X, w: lasso_stoch_grad(y, X, w, lambda_)\n",
    "_, losses = stochastic_gradient_descent(y, X, np.zeros(X.shape[1]), 80, 1e-1, lasso_lambda, lasso_stoch_grad_lambda, batch_size = 100, detail = True)"
   ]
  },
  {
   "cell_type": "code",
   "execution_count": 42,
   "metadata": {},
   "outputs": [
    {
     "data": {
      "text/plain": [
       "[<matplotlib.lines.Line2D at 0x7fe502b84908>]"
      ]
     },
     "execution_count": 42,
     "metadata": {},
     "output_type": "execute_result"
    },
    {
     "data": {
      "image/png": "[encoded data removed]",
      "text/plain": [
       "<Figure size 432x288 with 1 Axes>"
      ]
     },
     "metadata": {},
     "output_type": "display_data"
    }
   ],
   "source": [
    "plt.xlabel(\"SGD iterations\")\n",
    "plt.ylabel(\"RMSE\")\n",
    "plt.plot(losses)"
   ]
  },
  {
   "cell_type": "code",
   "execution_count": 43,
   "metadata": {},
   "outputs": [
    {
     "name": "stdout",
     "output_type": "stream",
     "text": [
      "79\n",
      "510.5618316456103\n"
     ]
    }
   ],
   "source": [
    "print(np.argmin(losses))\n",
    "print(losses[np.argmin(losses)])"
   ]
  },
  {
   "cell_type": "markdown",
   "metadata": {},
   "source": [
    "Looking at the result, we see that convergence is really slow. Indeed, since $\\lambda = 0$, we are basically optimizing a standard `MSE` for which we know (from above) that the optimal solution is 26. We deduce it is unlikely to do better than `ridge_regression`, and we drop this idea."
   ]
  },
  {
   "cell_type": "markdown",
   "metadata": {},
   "source": [
    "## Idea 4: MAE loss (with SGD) with $\\mathcal{L}_2$-regularizer "
   ]
  },
  {
   "cell_type": "markdown",
   "metadata": {},
   "source": [
    "In the lectures, we also talked about `MAE` loss, which we decide to try here. From the lab, we know that `MSE` is well-suited for out task, but we decide to implement `MAE` as well and hope to be surprised!\n",
    "\n",
    "Again, the minimum of `MAE` can not be found using any kind of closed-form formula, and we naturally decide to use `mini-batch-SGD` one more time."
   ]
  },
  {
   "cell_type": "code",
   "execution_count": 25,
   "metadata": {},
   "outputs": [],
   "source": [
    "def run_mae_sgd():\n",
    "    for lambda_ in [0, 1e-6, 1e-5, 1e-4, 1e-3, 1e-2]:\n",
    "        print(\"lambda = \" + str(lambda_))\n",
    "        for degree in range(1, 3):\n",
    "            print(\"    degree = \" + str(degree))\n",
    "            rmse_tr_tmp = []\n",
    "            rmse_te_tmp = []\n",
    "            \n",
    "            lambda_mae = lambda y, X, w: mae(y, X, w, lambda_)\n",
    "            lambda_mae_stoch_grad = lambda y, X, w: mae_stoch_grad(y, X, w, lambda_)\n",
    "            for k in range(k_fold):\n",
    "                mae_lambda = lambda y, X: stochastic_gradient_descent(y, X, np.zeros(X.shape[1]), 50, 1, lambda_mae, lambda_mae_stoch_grad, batch_size = 100)\n",
    "                loss_tr, loss_te, _ = cross_validation(y, X, k_indices, k, degree, mae_lambda)\n",
    "                rmse_tr_tmp.append(loss_tr)\n",
    "                rmse_te_tmp.append(loss_te)\n",
    "            print(\"        \" + str(np.mean(rmse_tr_tmp)))\n",
    "            print(\"        \" + str(np.mean(rmse_te_tmp)))"
   ]
  },
  {
   "cell_type": "markdown",
   "metadata": {},
   "source": [
    "Again, we first try to validate the method before we run that."
   ]
  },
  {
   "cell_type": "code",
   "execution_count": 26,
   "metadata": {},
   "outputs": [
    {
     "name": "stdout",
     "output_type": "stream",
     "text": [
      "Degree 1\n",
      "    loss = 26.159135164285743\n",
      "Degree 2\n",
      "    loss = 23.871869495951007\n"
     ]
    },
    {
     "data": {
      "image/png": "[encoded data removed]",
      "text/plain": [
       "<Figure size 432x288 with 1 Axes>"
      ]
     },
     "metadata": {
      "needs_background": "light"
     },
     "output_type": "display_data"
    }
   ],
   "source": [
    "for i in [1, 2]:\n",
    "    lambda_ = 0\n",
    "    print(\"Degree \" + str(i))\n",
    "    X_ = build_poly(X, i)\n",
    "    lambda_mae = lambda y, X, w: mae(y, X, w, lambda_)\n",
    "    lambda_grad_mae = lambda y, X, w: mae_stoch_grad(y, X, w, lambda_)\n",
    "    ws, losses = stochastic_gradient_descent(y, X_, np.zeros(X_.shape[1]), 50, 1, lambda_mae, lambda_grad_mae, batch_size = 100, detail = True)\n",
    "    plt.xlabel(\"SGD iterations\")\n",
    "    plt.ylabel(\"RMSE\")\n",
    "    plt.semilogy(losses, label = \"degree =\" + str(i))\n",
    "    plt.legend()\n",
    "    print(\"    loss = \" + str(losses[np.argmin(losses)]))"
   ]
  },
  {
   "cell_type": "markdown",
   "metadata": {},
   "source": [
    "The loss obtained reaches RMSE of approx. 23 for degree 2 polynomial expansion. We think that we probably won't be able to do better than ridge regression, but the effort is worth trying. Degree 3 has been tested separately and gives RMSE > 1000, hence we exclude it from the possible degree candidates."
   ]
  },
  {
   "cell_type": "code",
   "execution_count": 27,
   "metadata": {},
   "outputs": [
    {
     "name": "stdout",
     "output_type": "stream",
     "text": [
      "lambda = 0\n",
      "    degree = 1\n",
      "        26.355582665289\n",
      "        26.355784279496454\n",
      "    degree = 2\n",
      "        24.162021525775195\n",
      "        24.162715017406338\n",
      "lambda = 1e-06\n",
      "    degree = 1\n",
      "        26.35558775976868\n",
      "        26.355774697392782\n",
      "    degree = 2\n",
      "        24.170212141069207\n",
      "        24.170990366946498\n",
      "lambda = 1e-05\n",
      "    degree = 1\n",
      "        26.355588727236167\n",
      "        26.355778198307007\n",
      "    degree = 2\n",
      "        24.177040652403203\n",
      "        24.178066413218787\n",
      "lambda = 0.0001\n",
      "    degree = 1\n",
      "        26.355585558178895\n",
      "        26.35578251376678\n",
      "    degree = 2\n",
      "        24.157708463881253\n",
      "        24.15916725428593\n",
      "lambda = 0.001\n",
      "    degree = 1\n",
      "        26.35558779628549\n",
      "        26.355787983716368\n",
      "    degree = 2\n",
      "        24.175575073034818\n",
      "        24.176407819894198\n",
      "lambda = 0.01\n",
      "    degree = 1\n",
      "        26.355634820756176\n",
      "        26.355788383863935\n",
      "    degree = 2\n",
      "        24.231269643413476\n",
      "        24.231798904947226\n"
     ]
    }
   ],
   "source": [
    "run_mae_sgd()"
   ]
  },
  {
   "cell_type": "markdown",
   "metadata": {},
   "source": [
    "As expected, we see that the results are not as good as ridge regression..."
   ]
  },
  {
   "cell_type": "markdown",
   "metadata": {},
   "source": [
    "# Conclusion\n",
    "We managed to get a lower error than the lab using `Ridge Regression` with polynomial expansion, which we are really proud of. Moreover, we have tried other standard losses and regularizers that did not work as good and we conclude that we probably won't be able to do a lot better using classical machine learning approaches. In parallel, we run a few deep learning experiments that lead to promising results and therefore we decide to stop here our research on the machine learning aspects of the project."
   ]
  }
 ],
 "metadata": {
  "kernelspec": {
   "display_name": "Python 3",
   "language": "python",
   "name": "python3"
  },
  "language_info": {
   "codemirror_mode": {
    "name": "ipython",
    "version": 3
   },
   "file_extension": ".py",
   "mimetype": "text/x-python",
   "name": "python",
   "nbconvert_exporter": "python",
   "pygments_lexer": "ipython3",
   "version": "3.6.5"
  }
 },
 "nbformat": 4,
 "nbformat_minor": 2
}
