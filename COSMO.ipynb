{
 "cells": [
  {
   "cell_type": "markdown",
   "metadata": {},
   "source": [
    "# COSMO Project\n",
    "By Mathilde Raynal, Etienne Bonvin and Xavier Pantet"
   ]
  },
  {
   "cell_type": "code",
   "execution_count": 1,
   "metadata": {},
   "outputs": [],
   "source": [
    "%load_ext autoreload\n",
    "%autoreload 2"
   ]
  },
  {
   "cell_type": "code",
   "execution_count": 2,
   "metadata": {},
   "outputs": [],
   "source": [
    "import numpy as np\n",
    "from regressions import *\n",
    "import pandas as pd\n",
    "import matplotlib.pyplot as plt"
   ]
  },
  {
   "cell_type": "code",
   "execution_count": 3,
   "metadata": {},
   "outputs": [],
   "source": [
    "DATA_FOLDER = \"data/\"\n",
    "#X = np.load(DATA_FOLDER + \"feature_mat_radial_compression.npy\")\n",
    "X = np.load(DATA_FOLDER + \"pca_x.npy\")\n",
    "y = np.load(DATA_FOLDER + \"CSD500-r_train-H_total.npy\")\n",
    "\n",
    "np.random.seed(1)"
   ]
  },
  {
   "cell_type": "code",
   "execution_count": 4,
   "metadata": {},
   "outputs": [
    {
     "name": "stdout",
     "output_type": "stream",
     "text": [
      "X: (30049, 3004)\n",
      "y: (30049,)\n"
     ]
    }
   ],
   "source": [
    "print(\"X: \" + str(X.shape))\n",
    "print(\"y: \" + str(y.shape))"
   ]
  },
  {
   "cell_type": "markdown",
   "metadata": {},
   "source": [
    "## Idea 1: Good ol' least squares (MSE loss without regularizer)"
   ]
  },
  {
   "cell_type": "markdown",
   "metadata": {},
   "source": [
    "We first try a standard and naive implementation of `least_squares` on the full dataset:"
   ]
  },
  {
   "cell_type": "code",
   "execution_count": 5,
   "metadata": {},
   "outputs": [
    {
     "name": "stdout",
     "output_type": "stream",
     "text": [
      "Loss = 26.166553759575127\n"
     ]
    }
   ],
   "source": [
    "def run_least_squares():\n",
    "    w_star = least_squares(y, X)\n",
    "    loss = rmse(y, X, w_star)\n",
    "    print(\"Loss = \" + str(loss))\n",
    "\n",
    "run_least_squares()"
   ]
  },
  {
   "cell_type": "markdown",
   "metadata": {},
   "source": [
    "We see that the loss is quite large! We hope to do better using polynomial expansion using a smaller dataset composed only of a smaller number of features so that we don't need a cluster. We use 4-fold cross-validation to find the best `degree`:"
   ]
  },
  {
   "cell_type": "code",
   "execution_count": 6,
   "metadata": {},
   "outputs": [],
   "source": [
    "k_fold = 4\n",
    "k_indices = build_k_indices(y, k_fold)\n",
    "\n",
    "def run_least_squares_poly():\n",
    "    rmse_tr = []\n",
    "    rmse_te = []\n",
    "\n",
    "    for degree in range(4):\n",
    "        rmse_tr_tmp = []\n",
    "        rmse_te_tmp = []\n",
    "        for k in range(k_fold):\n",
    "            loss_tr, loss_te, _ = cross_validation(y, X, k_indices, k, degree, least_squares)\n",
    "            rmse_tr_tmp.append(loss_tr)\n",
    "            rmse_te_tmp.append(loss_te)\n",
    "        rmse_tr.append(np.mean(rmse_tr_tmp))\n",
    "        rmse_te.append(np.mean(rmse_te_tmp))\n",
    "    pd.DataFrame([rmse_tr, rmse_te]).add_prefix(\"Degree \").rename({0: \"Train error\", 1: \"Test error\"}).head()\n",
    "    return rmse_tr, rmse_te"
   ]
  },
  {
   "cell_type": "code",
   "execution_count": 7,
   "metadata": {},
   "outputs": [
    {
     "data": {
      "text/plain": [
       "([3.214363737341961,\n",
       "  0.5956012277327409,\n",
       "  0.4661340477548795,\n",
       "  0.3562751890194217],\n",
       " [3.214384303727872,\n",
       "  0.7107496454416272,\n",
       "  0.7489895213565038,\n",
       "  1.0423134308771025])"
      ]
     },
     "execution_count": 7,
     "metadata": {},
     "output_type": "execute_result"
    }
   ],
   "source": [
    "run_least_squares_poly()"
   ]
  },
  {
   "cell_type": "markdown",
   "metadata": {},
   "source": [
    "Indeed, polynomial expansion provides better results. Moreover, we see that the best `degree` is 1.\n",
    "\n",
    "__By adding a single feature of constant values, we manage to decrease the RMSE from 26 to 0.7!__"
   ]
  },
  {
   "cell_type": "markdown",
   "metadata": {},
   "source": [
    "## Idea 2: Ridge regression (MSE loss with $\\mathcal{L}_2$-regularizer)"
   ]
  },
  {
   "cell_type": "code",
   "execution_count": 8,
   "metadata": {},
   "outputs": [],
   "source": [
    "k_fold = 4\n",
    "k_indices = build_k_indices(y, k_fold)\n",
    "\n",
    "def run_ridge_regression():\n",
    "    for lambda_ in np.logspace(-5, 1, 7):\n",
    "        print(\"Lambda = \" + str(lambda_))\n",
    "        for degree in range(1, 3):\n",
    "            print(\"    Degree = \" + str(degree))\n",
    "            rmse_tr_tmp = []\n",
    "            rmse_te_tmp = []\n",
    "            for k in range(k_fold):\n",
    "                ridge_lambda = lambda y, X: ridge_regression(y, X, lambda_)\n",
    "                loss_tr, loss_te, _ = cross_validation(y, X, k_indices, k, degree, ridge_lambda)\n",
    "                rmse_tr_tmp.append(loss_tr)\n",
    "                rmse_te_tmp.append(loss_te)\n",
    "            print(\"        \" + str(np.mean(rmse_tr_tmp)))\n",
    "            print(\"        \" + str(np.mean(rmse_te_tmp)))"
   ]
  },
  {
   "cell_type": "code",
   "execution_count": 9,
   "metadata": {},
   "outputs": [
    {
     "name": "stdout",
     "output_type": "stream",
     "text": [
      "Lambda = 1e-05\n",
      "    Degree = 1\n",
      "        0.5956012277327412\n",
      "        0.7107496453242187\n",
      "    Degree = 2\n",
      "        0.46613404775498773\n",
      "        0.7489895167328673\n",
      "Lambda = 0.0001\n",
      "    Degree = 1\n",
      "        0.5956012277327529\n",
      "        0.7107496442675574\n",
      "    Degree = 2\n",
      "        0.46613404776569345\n",
      "        0.7489894751442037\n",
      "Lambda = 0.001\n",
      "    Degree = 1\n",
      "        0.595601227733922\n",
      "        0.7107496337022221\n",
      "    Degree = 2\n",
      "        0.46613404883618903\n",
      "        0.7489890616490246\n",
      "Lambda = 0.01\n",
      "    Degree = 1\n",
      "        0.5956012278508356\n",
      "        0.7107495281758753\n",
      "    Degree = 2\n",
      "        0.46613415581978157\n",
      "        0.7489851656593154\n",
      "Lambda = 0.1\n",
      "    Degree = 1\n",
      "        0.5956012395420908\n",
      "        0.7107484856140888\n",
      "    Degree = 2\n",
      "        0.4661447884335308\n",
      "        0.748969941829664\n",
      "Lambda = 1.0\n",
      "    Degree = 1\n",
      "        0.5956024085635065\n",
      "        0.7107393300294402\n",
      "    Degree = 2\n",
      "        0.4671445127958839\n",
      "        0.751035239705691\n",
      "Lambda = 10.0\n",
      "    Degree = 1\n",
      "        0.5957191962706814\n",
      "        0.7107746313203024\n",
      "    Degree = 2\n",
      "        0.5229540619328286\n",
      "        0.88222947878869\n"
     ]
    }
   ],
   "source": [
    "run_ridge_regression()"
   ]
  },
  {
   "cell_type": "markdown",
   "metadata": {},
   "source": [
    "We see that the best test error is achieved with a regulizer of $\\lambda = 10^{-5}$ for `degree 1` and $\\lambda = 10^{-2}$ for `degree 2`. In all cases, `degree 1` remains our best degree value.\n",
    "\n",
    "Since the results are almost equal with and without a regulizer and provided that the test error increases for larger values of $\\lambda$, we deduce that the model is not overfitted and that a $\\mathcal{L}_2$ regulizer is useless..."
   ]
  },
  {
   "cell_type": "markdown",
   "metadata": {},
   "source": [
    "## Idea 3: Lasso (MSE loss with $\\mathcal{L}_1$-regularizer)"
   ]
  },
  {
   "cell_type": "code",
   "execution_count": 10,
   "metadata": {},
   "outputs": [],
   "source": [
    "X = build_poly(X, 1)\n",
    "def run_lasso():\n",
    "    for lambda_ in np.concatenate([[0], np.logspace(-5, 2, 8)]):\n",
    "        print(\"lambda = \" + str(lambda_))\n",
    "        for degree in range(1, 3):\n",
    "            print(\"    degree = \" + str(degree))\n",
    "            rmse_tr_tmp = []\n",
    "            rmse_te_tmp = []\n",
    "    \n",
    "            for k in range(k_fold):\n",
    "                lasso_lambda = lambda y, X, w: lasso(y, X, w, lambda_)\n",
    "                lasso_stoch_grad_lambda = lambda y, X, w: lasso_stoch_grad(y, X, w, lambda_)\n",
    "                loss_lambda = lambda y, X: stochastic_gradient_descent(y, X, np.zeros(X.shape[1]), 500, 1e-2, lasso_lambda, lasso_stoch_grad_lambda, batch_size = 100)\n",
    "                loss_tr, loss_te, _ = cross_validation(y, X, k_indices, k, degree, loss_lambda)\n",
    "                rmse_tr_tmp.append(loss_tr)\n",
    "                rmse_te_tmp.append(loss_te)\n",
    "            print(\"        \" + str(np.mean(rmse_tr_tmp)))\n",
    "            print(\"        \" + str(np.mean(rmse_te_tmp)))"
   ]
  },
  {
   "cell_type": "markdown",
   "metadata": {},
   "source": [
    "Before we run it, we try a `stochastic_gradient_descent` using a `lasso`, just to see what we can expect:"
   ]
  },
  {
   "cell_type": "code",
   "execution_count": 11,
   "metadata": {},
   "outputs": [],
   "source": [
    "lambda_ = 0\n",
    "lasso_lambda = lambda y, X, w: lasso(y, X, w, lambda_)\n",
    "lasso_stoch_grad_lambda = lambda y, X, w: lasso_stoch_grad(y, X, w, lambda_)\n",
    "_, losses = stochastic_gradient_descent(y, X, np.zeros(X.shape[1]), 500, 1e-2, lasso_lambda, lasso_stoch_grad_lambda, batch_size = 100, detail = True)"
   ]
  },
  {
   "cell_type": "code",
   "execution_count": 12,
   "metadata": {},
   "outputs": [
    {
     "data": {
      "text/plain": [
       "[<matplotlib.lines.Line2D at 0x7f05c84bbdd8>]"
      ]
     },
     "execution_count": 12,
     "metadata": {},
     "output_type": "execute_result"
    },
    {
     "data": {
      "image/png": "[encoded data removed]",
      "text/plain": [
       "<Figure size 432x288 with 1 Axes>"
      ]
     },
     "metadata": {},
     "output_type": "display_data"
    }
   ],
   "source": [
    "plt.semilogy(losses)"
   ]
  },
  {
   "cell_type": "code",
   "execution_count": 13,
   "metadata": {},
   "outputs": [
    {
     "name": "stdout",
     "output_type": "stream",
     "text": [
      "499\n",
      "481.6724402132188\n"
     ]
    }
   ],
   "source": [
    "print(np.argmin(losses))\n",
    "print(losses[np.argmin(losses)])"
   ]
  },
  {
   "cell_type": "markdown",
   "metadata": {},
   "source": [
    "Looking at the result, it is unlikely to do better than `ridge_regression`, therefore we drop this idea."
   ]
  },
  {
   "cell_type": "markdown",
   "metadata": {},
   "source": [
    "## Idea 4: MAE loss (with SGD)"
   ]
  },
  {
   "cell_type": "code",
   "execution_count": 14,
   "metadata": {},
   "outputs": [],
   "source": [
    "def run_mae_sgd():\n",
    "    for _ in [0]:\n",
    "        for degree in range(1, 3):\n",
    "            print(\"degree = \" + str(degree))\n",
    "            rmse_tr_tmp = []\n",
    "            rmse_te_tmp = []\n",
    "    \n",
    "            for k in range(k_fold):\n",
    "                mae_lambda = lambda y, X: stochastic_gradient_descent(y, X, np.zeros(X.shape[1]), 50, 1e-3, mae, mae_stoch_grad, batch_size = 100)\n",
    "                loss_tr, loss_te, _ = cross_validation(y, X, k_indices, k, degree, mae_lambda)\n",
    "                rmse_tr_tmp.append(loss_tr)\n",
    "                rmse_te_tmp.append(loss_te)\n",
    "            print(\"    \" + str(np.mean(rmse_tr_tmp)))\n",
    "            print(\"    \" + str(np.mean(rmse_te_tmp)))"
   ]
  },
  {
   "cell_type": "markdown",
   "metadata": {},
   "source": [
    "Again, we first try to validate the method before we run that."
   ]
  },
  {
   "cell_type": "code",
   "execution_count": 15,
   "metadata": {},
   "outputs": [],
   "source": [
    "ws, losses = stochastic_gradient_descent(y, X, np.zeros(X.shape[1]), 100, 1, mae, mae_stoch_grad, batch_size = 100, detail = True)"
   ]
  },
  {
   "cell_type": "code",
   "execution_count": 16,
   "metadata": {},
   "outputs": [
    {
     "data": {
      "text/plain": [
       "[<matplotlib.lines.Line2D at 0x7f05f6a27518>]"
      ]
     },
     "execution_count": 16,
     "metadata": {},
     "output_type": "execute_result"
    },
    {
     "data": {
      "image/png": "[encoded data removed]",
      "text/plain": [
       "<Figure size 432x288 with 1 Axes>"
      ]
     },
     "metadata": {},
     "output_type": "display_data"
    }
   ],
   "source": [
    "plt.plot(losses)"
   ]
  },
  {
   "cell_type": "code",
   "execution_count": 17,
   "metadata": {},
   "outputs": [
    {
     "name": "stdout",
     "output_type": "stream",
     "text": [
      "99\n",
      "26.157749940133527\n"
     ]
    }
   ],
   "source": [
    "print(np.argmin(losses))\n",
    "print(losses[np.argmin(losses)])"
   ]
  },
  {
   "cell_type": "code",
   "execution_count": 18,
   "metadata": {},
   "outputs": [
    {
     "data": {
      "text/plain": [
       "[array([0., 0., 0., ..., 0., 0., 0.]),\n",
       " array([ 3.32778702e-04, -3.12426855e-04,  3.46571600e-04, ...,\n",
       "         4.71631495e-06,  3.54825899e-05,  2.44883581e-05]),\n",
       " array([ 4.99168053e-04, -4.43372405e-04,  4.84418451e-04, ...,\n",
       "        -1.98760894e-06,  3.86820796e-05,  2.48805948e-05]),\n",
       " array([ 6.10094287e-04,  2.12192166e-04,  6.95675019e-04, ...,\n",
       "        -4.23382064e-06,  4.34382335e-05,  2.57710107e-05]),\n",
       " array([ 6.93288963e-04, -5.85134289e-06,  6.00068422e-04, ...,\n",
       "        -7.82824972e-07,  4.33136598e-05,  2.53521864e-05]),\n",
       " array([ 7.59844703e-04,  1.60025958e-04,  3.46875812e-04, ...,\n",
       "        -1.81111100e-06,  4.74224718e-05,  3.17038043e-05]),\n",
       " array([ 8.15307820e-04,  2.51787898e-04,  4.11749256e-04, ...,\n",
       "        -2.85201279e-06,  4.19414997e-05,  2.87412222e-05]),\n",
       " array([ 8.62847635e-04,  1.93026555e-04,  3.17010139e-04, ...,\n",
       "        -3.08744120e-06,  4.14895384e-05,  3.17743229e-05]),\n",
       " array([ 9.04444973e-04, -7.60401041e-06,  3.66601992e-04, ...,\n",
       "        -4.38968287e-06,  4.11365267e-05,  3.11145412e-05]),\n",
       " array([ 9.41420384e-04,  8.82049883e-05,  4.18917334e-04, ...,\n",
       "        -1.44526787e-06,  4.06556415e-05,  3.19857215e-05]),\n",
       " array([ 9.74698254e-04,  2.80759545e-05,  3.77363929e-04, ...,\n",
       "        -4.43778763e-06,  3.99341848e-05,  3.13952560e-05]),\n",
       " array([ 1.00495086e-03,  1.26361864e-04,  5.36347640e-04, ...,\n",
       "        -4.68280164e-06,  3.92182857e-05,  2.92300314e-05]),\n",
       " array([ 1.03268242e-03,  1.25860779e-04,  5.81891827e-04, ...,\n",
       "        -2.31902611e-06,  3.97012276e-05,  2.82072311e-05]),\n",
       " array([ 1.05828078e-03,  1.76564348e-04,  6.29215012e-04, ...,\n",
       "        -4.99977844e-07,  4.07173251e-05,  2.92597851e-05]),\n",
       " array([ 1.08205069e-03,  1.86161496e-04,  6.72489762e-04, ...,\n",
       "        -8.51206384e-07,  4.25703367e-05,  2.84832500e-05]),\n",
       " array([1.10423594e-03, 2.23045872e-04, 7.63379275e-04, ...,\n",
       "        1.30221454e-07, 4.33746143e-05, 2.78328603e-05]),\n",
       " array([ 1.12503461e-03,  2.69584404e-04,  7.57885835e-04, ...,\n",
       "        -4.84154044e-08,  4.32373183e-05,  2.84616822e-05]),\n",
       " array([1.14460982e-03, 2.31153721e-04, 7.57790316e-04, ...,\n",
       "        8.99193117e-07, 4.20042116e-05, 2.86103106e-05]),\n",
       " array([ 1.16309753e-03,  1.79824744e-04,  7.63074397e-04, ...,\n",
       "        -7.92229301e-07,  4.08727491e-05,  2.88193280e-05]),\n",
       " array([1.18061220e-03, 1.07222850e-04, 7.57748635e-04, ...,\n",
       "        2.10635443e-07, 3.97079642e-05, 2.82951322e-05]),\n",
       " array([1.19725113e-03, 9.89844736e-05, 7.38114134e-04, ...,\n",
       "        7.90569594e-07, 3.93611068e-05, 2.89410446e-05]),\n",
       " array([1.21309774e-03, 1.16230460e-05, 7.64076733e-04, ...,\n",
       "        8.20208956e-07, 3.92229209e-05, 2.86841318e-05]),\n",
       " array([ 1.22822404e-03, -3.86441338e-05,  7.78181233e-04, ...,\n",
       "         1.48567860e-06,  3.90564801e-05,  2.76786491e-05]),\n",
       " array([ 1.24269268e-03, -6.93267586e-05,  8.34291372e-04, ...,\n",
       "         6.76034542e-07,  3.98400450e-05,  2.77272628e-05]),\n",
       " array([ 1.25655846e-03, -1.06993022e-04,  8.40655230e-04, ...,\n",
       "         2.50246379e-06,  4.00171843e-05,  2.76123233e-05]),\n",
       " array([ 1.26986961e-03, -7.83075716e-05,  8.34170887e-04, ...,\n",
       "         2.86376797e-06,  3.96111006e-05,  2.65813769e-05]),\n",
       " array([ 1.28266879e-03, -6.03004928e-05,  8.44427108e-04, ...,\n",
       "         3.34255816e-06,  3.91509535e-05,  2.65553616e-05]),\n",
       " array([ 1.29499393e-03, -4.46144746e-05,  8.33518576e-04, ...,\n",
       "         3.09971875e-06,  3.98485336e-05,  2.59696749e-05]),\n",
       " array([ 1.30687888e-03, -8.61462120e-05,  8.06191024e-04, ...,\n",
       "         3.50614596e-06,  4.02399093e-05,  2.55323909e-05]),\n",
       " array([ 1.31835401e-03, -3.72111063e-05,  8.40042864e-04, ...,\n",
       "         3.42563417e-06,  4.05824551e-05,  2.62573837e-05]),\n",
       " array([ 1.32944663e-03, -7.20048471e-05,  8.44197109e-04, ...,\n",
       "         2.99982860e-06,  4.06211482e-05,  2.64217507e-05]),\n",
       " array([ 1.34018143e-03, -9.06290545e-05,  8.56840068e-04, ...,\n",
       "         3.44574187e-06,  4.03196959e-05,  2.52241286e-05]),\n",
       " array([ 1.35058076e-03, -5.10450683e-05,  8.17035225e-04, ...,\n",
       "         4.07444698e-06,  4.03999775e-05,  2.58704597e-05]),\n",
       " array([ 1.36066497e-03, -5.42848808e-05,  7.95021735e-04, ...,\n",
       "         3.92615595e-06,  4.05548762e-05,  2.49919894e-05]),\n",
       " array([ 1.37045258e-03, -3.40695427e-05,  8.25777988e-04, ...,\n",
       "         3.60573852e-06,  4.05235852e-05,  2.54672129e-05]),\n",
       " array([ 1.37996054e-03, -4.87788744e-05,  8.30355515e-04, ...,\n",
       "         4.17735577e-06,  3.98677247e-05,  2.49391919e-05]),\n",
       " array([ 1.38920439e-03, -5.63317649e-05,  8.15632324e-04, ...,\n",
       "         4.97834495e-06,  3.93635244e-05,  2.47802176e-05]),\n",
       " array([ 1.39819841e-03, -3.73945462e-05,  8.08992038e-04, ...,\n",
       "         6.49606213e-06,  4.01760558e-05,  2.41440316e-05]),\n",
       " array([1.40695574e-03, 2.42802101e-06, 7.89997745e-04, ...,\n",
       "        6.64485188e-06, 3.93746275e-05, 2.36590576e-05]),\n",
       " array([1.41548853e-03, 2.84702303e-05, 7.71777033e-04, ...,\n",
       "        8.29659045e-06, 3.98250100e-05, 2.29790946e-05]),\n",
       " array([1.42380800e-03, 3.96889363e-05, 7.66923958e-04, ...,\n",
       "        8.05133427e-06, 4.03399691e-05, 2.20269930e-05]),\n",
       " array([1.43192455e-03, 2.92860163e-05, 7.76160754e-04, ...,\n",
       "        8.82631034e-06, 4.09133008e-05, 2.09453563e-05]),\n",
       " array([1.43984786e-03, 2.53232735e-05, 8.07036038e-04, ...,\n",
       "        8.02949235e-06, 4.05781337e-05, 2.14600237e-05]),\n",
       " array([1.44758690e-03, 3.28237672e-05, 8.06742222e-04, ...,\n",
       "        7.45641811e-06, 4.11486572e-05, 2.23387102e-05]),\n",
       " array([1.45515005e-03, 3.13845006e-06, 8.10238948e-04, ...,\n",
       "        6.78125108e-06, 4.07369157e-05, 2.20097549e-05]),\n",
       " array([1.46254513e-03, 1.69926602e-05, 8.05671574e-04, ...,\n",
       "        6.44402924e-06, 4.13406912e-05, 2.24474363e-05]),\n",
       " array([1.46977945e-03, 3.58364029e-05, 8.17787795e-04, ...,\n",
       "        6.43696927e-06, 4.17972651e-05, 2.23169548e-05]),\n",
       " array([1.47685985e-03, 8.49672882e-05, 8.11387511e-04, ...,\n",
       "        6.41944319e-06, 4.20124772e-05, 2.26983037e-05]),\n",
       " array([1.48379274e-03, 7.28820200e-05, 8.20446109e-04, ...,\n",
       "        6.55904185e-06, 4.15627698e-05, 2.23541209e-05]),\n",
       " array([1.49058414e-03, 5.96503894e-05, 8.22494520e-04, ...,\n",
       "        7.26344923e-06, 4.12701232e-05, 2.22839730e-05]),\n",
       " array([1.49723971e-03, 7.26696237e-05, 8.25333013e-04, ...,\n",
       "        6.92443104e-06, 4.16737700e-05, 2.25023563e-05]),\n",
       " array([1.50376479e-03, 6.32136354e-05, 8.25287112e-04, ...,\n",
       "        6.55687282e-06, 4.15738294e-05, 2.26442296e-05]),\n",
       " array([1.51016438e-03, 8.45769358e-05, 8.16838984e-04, ...,\n",
       "        6.66084589e-06, 4.20613630e-05, 2.30369603e-05]),\n",
       " array([1.51644322e-03, 6.77167401e-05, 8.24625317e-04, ...,\n",
       "        6.58788985e-06, 4.23518684e-05, 2.32764506e-05]),\n",
       " array([1.52260579e-03, 6.74260101e-05, 8.24267403e-04, ...,\n",
       "        6.65946603e-06, 4.21621089e-05, 2.31264492e-05]),\n",
       " array([1.52865631e-03, 7.64853758e-05, 8.31590822e-04, ...,\n",
       "        6.76929341e-06, 4.11361093e-05, 2.34000644e-05]),\n",
       " array([1.53459879e-03, 5.99267080e-05, 8.47295194e-04, ...,\n",
       "        6.89303588e-06, 4.18521032e-05, 2.32184481e-05]),\n",
       " array([1.54043701e-03, 5.54836423e-05, 8.65370941e-04, ...,\n",
       "        6.80256797e-06, 4.16503827e-05, 2.26511812e-05]),\n",
       " array([1.54617457e-03, 6.01645006e-05, 8.72114677e-04, ...,\n",
       "        6.87629294e-06, 4.14900978e-05, 2.24767845e-05]),\n",
       " array([1.55181489e-03, 5.85593619e-05, 8.85619118e-04, ...,\n",
       "        7.00416544e-06, 4.13424816e-05, 2.30845083e-05]),\n",
       " array([1.55736120e-03, 4.44367948e-05, 8.91837057e-04, ...,\n",
       "        7.41383456e-06, 4.15884793e-05, 2.31267001e-05]),\n",
       " array([1.56281659e-03, 2.37900475e-05, 9.06358193e-04, ...,\n",
       "        7.22966297e-06, 4.15371865e-05, 2.28655283e-05]),\n",
       " array([1.56818399e-03, 1.86408278e-05, 9.14179538e-04, ...,\n",
       "        7.33243132e-06, 4.17552348e-05, 2.27675540e-05]),\n",
       " array([1.57346619e-03, 2.66736618e-05, 9.26061692e-04, ...,\n",
       "        7.31555784e-06, 4.17398801e-05, 2.25350033e-05]),\n",
       " array([1.57866586e-03, 1.57657737e-05, 9.26136921e-04, ...,\n",
       "        6.99196042e-06, 4.14351641e-05, 2.30077146e-05]),\n",
       " array([1.58378553e-03, 3.76707978e-06, 9.13275700e-04, ...,\n",
       "        7.14837005e-06, 4.15004928e-05, 2.30370554e-05]),\n",
       " array([ 1.58882763e-03, -3.61112546e-06,  9.08954607e-04, ...,\n",
       "         7.57105665e-06,  4.16190693e-05,  2.31582687e-05]),\n",
       " array([ 1.59379448e-03, -1.03734910e-05,  9.07132248e-04, ...,\n",
       "         7.60519191e-06,  4.14569145e-05,  2.27320331e-05]),\n",
       " array([ 1.59868828e-03, -2.82141186e-05,  8.98369227e-04, ...,\n",
       "         7.96117003e-06,  4.13813456e-05,  2.25515272e-05]),\n",
       " array([ 1.60351116e-03, -3.39896390e-05,  9.01619775e-04, ...,\n",
       "         8.00082171e-06,  4.09605650e-05,  2.28276805e-05]),\n",
       " array([ 1.60826514e-03, -2.13511442e-05,  8.95954750e-04, ...,\n",
       "         7.84258526e-06,  4.14230869e-05,  2.29145857e-05]),\n",
       " array([ 1.61295217e-03, -3.64298299e-05,  9.11355029e-04, ...,\n",
       "         8.16668789e-06,  4.20499276e-05,  2.29297728e-05]),\n",
       " array([ 1.61757409e-03, -3.03122141e-05,  9.08040903e-04, ...,\n",
       "         8.28613608e-06,  4.20029228e-05,  2.30429627e-05]),\n",
       " array([ 1.62213271e-03, -3.64257206e-05,  9.09673895e-04, ...,\n",
       "         7.99365073e-06,  4.19065377e-05,  2.26086746e-05]),\n",
       " array([ 1.62662972e-03, -4.47529093e-05,  9.06648264e-04, ...,\n",
       "         7.64932517e-06,  4.20749880e-05,  2.28504551e-05]),\n",
       " array([ 1.63106677e-03, -3.55481121e-05,  8.89973240e-04, ...,\n",
       "         7.14459447e-06,  4.21524709e-05,  2.26702759e-05]),\n",
       " array([ 1.63544543e-03, -2.64556168e-05,  8.86679005e-04, ...,\n",
       "         7.56684115e-06,  4.19086706e-05,  2.28779897e-05]),\n",
       " array([ 1.63976723e-03, -3.70949586e-05,  8.96149588e-04, ...,\n",
       "         8.11177410e-06,  4.20171180e-05,  2.26002630e-05]),\n",
       " array([ 1.64403363e-03, -4.10045172e-05,  8.95879515e-04, ...,\n",
       "         8.29870888e-06,  4.16288815e-05,  2.26871713e-05]),\n",
       " array([ 1.64824602e-03, -3.89311328e-05,  9.14911974e-04, ...,\n",
       "         8.51290399e-06,  4.19501276e-05,  2.25697894e-05]),\n",
       " array([ 1.65240575e-03, -4.65994635e-05,  9.19026371e-04, ...,\n",
       "         8.81863939e-06,  4.22396064e-05,  2.24000591e-05]),\n",
       " array([ 1.65651413e-03, -4.03452260e-05,  9.11260643e-04, ...,\n",
       "         8.89683598e-06,  4.21962751e-05,  2.19319332e-05]),\n",
       " array([ 1.66057241e-03, -3.34124187e-05,  9.27923194e-04, ...,\n",
       "         8.54980046e-06,  4.21879554e-05,  2.17486838e-05]),\n",
       " array([ 1.66458179e-03, -2.14675462e-05,  9.34628405e-04, ...,\n",
       "         8.50568918e-06,  4.27386891e-05,  2.20183660e-05]),\n",
       " array([ 1.66854344e-03, -2.03655866e-05,  9.34406537e-04, ...,\n",
       "         8.47332685e-06,  4.27405178e-05,  2.19962272e-05]),\n",
       " array([ 1.67245848e-03, -9.02421351e-06,  9.39315580e-04, ...,\n",
       "         8.59978617e-06,  4.27431786e-05,  2.21973355e-05]),\n",
       " array([1.67632800e-03, 7.80423214e-07, 9.23534653e-04, ...,\n",
       "        9.07335902e-06, 4.27990930e-05, 2.20021516e-05]),\n",
       " array([ 1.68015305e-03, -4.46337030e-06,  9.27127187e-04, ...,\n",
       "         9.07048591e-06,  4.28930884e-05,  2.19419784e-05]),\n",
       " array([1.68393462e-03, 5.15053500e-06, 9.21742233e-04, ...,\n",
       "        9.29797784e-06, 4.25470671e-05, 2.18850676e-05]),\n",
       " array([1.68767371e-03, 3.60513996e-06, 9.19865201e-04, ...,\n",
       "        9.13823208e-06, 4.24710799e-05, 2.17155005e-05]),\n",
       " array([ 1.69137125e-03, -1.00054664e-05,  9.13232155e-04, ...,\n",
       "         8.95493205e-06,  4.23863390e-05,  2.17739829e-05]),\n",
       " array([ 1.69502816e-03, -2.58784893e-05,  9.18324943e-04, ...,\n",
       "         8.99468994e-06,  4.25170620e-05,  2.15083698e-05]),\n",
       " array([ 1.69864532e-03, -2.31995779e-05,  9.12502245e-04, ...,\n",
       "         9.04615109e-06,  4.27081781e-05,  2.12242816e-05]),\n",
       " array([ 1.70222358e-03, -7.54593679e-06,  9.11533237e-04, ...,\n",
       "         9.16750272e-06,  4.29813258e-05,  2.13334555e-05]),\n",
       " array([ 1.70576378e-03, -9.96218808e-08,  9.08725805e-04, ...,\n",
       "         9.24886485e-06,  4.31135698e-05,  2.13623288e-05]),\n",
       " array([ 1.70926672e-03, -1.25916001e-07,  9.08179951e-04, ...,\n",
       "         9.03550897e-06,  4.31353776e-05,  2.12345265e-05]),\n",
       " array([1.71273316e-03, 7.37153581e-06, 9.08466961e-04, ...,\n",
       "        9.09249013e-06, 4.30034206e-05, 2.12237689e-05]),\n",
       " array([1.71616387e-03, 2.40804826e-05, 9.16693642e-04, ...,\n",
       "        9.23921071e-06, 4.30118209e-05, 2.15322095e-05]),\n",
       " array([1.71955957e-03, 2.04385917e-05, 9.15253711e-04, ...,\n",
       "        9.41980937e-06, 4.27283815e-05, 2.15865583e-05]),\n",
       " array([1.72292097e-03, 6.82187088e-06, 9.22801308e-04, ...,\n",
       "        9.45442274e-06, 4.27225282e-05, 2.18448613e-05]),\n",
       " array([1.72624876e-03, 3.21322409e-06, 9.16232563e-04, ...,\n",
       "        9.41731805e-06, 4.29012270e-05, 2.18566756e-05])]"
      ]
     },
     "execution_count": 18,
     "metadata": {},
     "output_type": "execute_result"
    }
   ],
   "source": [
    "ws"
   ]
  },
  {
   "cell_type": "markdown",
   "metadata": {},
   "source": [
    "Well, it seems that the loss does not change, leading to a non convergence of the method even if `ws` is changing... We don't expect to do better either..."
   ]
  }
 ],
 "metadata": {
  "kernelspec": {
   "display_name": "Python 3",
   "language": "python",
   "name": "python3"
  },
  "language_info": {
   "codemirror_mode": {
    "name": "ipython",
    "version": 3
   },
   "file_extension": ".py",
   "mimetype": "text/x-python",
   "name": "python",
   "nbconvert_exporter": "python",
   "pygments_lexer": "ipython3",
   "version": "3.6.5"
  }
 },
 "nbformat": 4,
 "nbformat_minor": 2
}
