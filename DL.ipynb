{
 "cells": [
  {
   "cell_type": "markdown",
   "metadata": {},
   "source": [
    "# Approximating electromagnetic shielding using deep learning\n",
    "\n",
    "Here we are digging in the __deep learning part__ of the automated learning. We wish to see by ourselves to which extends this is applicable to our case and if it gives better results than standard machine learning.\n",
    "\n",
    "When designing algorithms, we always have to wonder what are the requirements in terms of __time / performance trade-offs__. In our case, the __performance__ is the most important, we should have precise predictions. Computation time should of course stay reasonable but considering the time taken to construct the matrix on which we predict, as long as our algorithms don't take several minutes to run they will not take the major part of the overall time.\n",
    "\n",
    "Note that deep-learning algorithms rely a lot on data. The more you have, the better your predictions will be. Hence __we highly recommand that whenever more data are available to rerun the algorithms__."
   ]
  },
  {
   "cell_type": "code",
   "execution_count": 23,
   "metadata": {},
   "outputs": [
    {
     "name": "stdout",
     "output_type": "stream",
     "text": [
      "The autoreload extension is already loaded. To reload it, use:\n",
      "  %reload_ext autoreload\n"
     ]
    }
   ],
   "source": [
    "# Clean up the memory\n",
    "%reset"
   ]
  },
  {
   "cell_type": "code",
   "execution_count": 1,
   "metadata": {},
   "outputs": [],
   "source": [
    "%load_ext autoreload\n",
    "%autoreload 2\n",
    "\n",
    "import gc\n",
    "\n",
    "import src.crowd as crowd\n",
    "import src.experts as experts\n",
    "import src.supercrowd as sc\n",
    "import src.collaborative_crowd as cc\n",
    "\n",
    "import numpy as np\n",
    "import math\n",
    "from PIL import Image\n",
    "import timeit\n",
    "\n",
    "import tensorflow as tf\n",
    "from tensorflow.keras import layers\n",
    "from tensorflow.keras.constraints import MaxNorm\n",
    "\n",
    "import matplotlib.pyplot as plt"
   ]
  },
  {
   "cell_type": "code",
   "execution_count": 2,
   "metadata": {},
   "outputs": [],
   "source": [
    "DATA_FOLDER = \"data/\"\n",
    "SESSION_FOLDER = \"session/\"\n",
    "\n",
    "TRAIN_SET_PERC = 0.75"
   ]
  },
  {
   "cell_type": "code",
   "execution_count": 3,
   "metadata": {},
   "outputs": [],
   "source": [
    "def rmse(pred, real, loop = True):\n",
    "    '''\n",
    "    Computes RMSE between predictions and real values\n",
    "    :param : float[]\n",
    "    :param : float[]\n",
    "    :return : float\n",
    "    '''\n",
    "    if len(pred) != len(real):\n",
    "        print(\"RMSE Error : Predictions and real values arrays do not have the same length, aborting.\")\n",
    "        return None\n",
    "    \n",
    "    if loop:\n",
    "        mse = 0\n",
    "        for i in range(len(pred)):\n",
    "            mse += (pred[i] - real[i])**2\n",
    "        return math.sqrt(mse/len(pred))\n",
    "    else:\n",
    "        # The creation of the array may produce memory error\n",
    "        err = pred - real\n",
    "        mse = err.T @ err\n",
    "        return math.sqrt(2 * mse / len(pred))\n",
    "    \n",
    "    \n",
    "def basic_error(pred, real):\n",
    "    '''\n",
    "    Compute basic error. Used to notify bias.\n",
    "    :param : float[]\n",
    "    :param : float[]\n",
    "    :return : float\n",
    "    '''\n",
    "    err = 0\n",
    "    for i in range(len(pred)):\n",
    "        err += (pred[i][0][0] - real[i])\n",
    "    return err\n",
    "\n",
    "\n",
    "def garbage_collection():\n",
    "    '''\n",
    "    Calls garbage collection to clean unused memory\n",
    "    '''\n",
    "    gc.collect()"
   ]
  },
  {
   "cell_type": "code",
   "execution_count": 4,
   "metadata": {},
   "outputs": [],
   "source": [
    "def plot_history(history):\n",
    "    '''\n",
    "    Plots the history of the training error\n",
    "    '''\n",
    "    plt.figure()\n",
    "    plt.xlabel('Epoch')\n",
    "    plt.ylabel('Mean Abs Error')\n",
    "    plt.plot(history.epoch, np.array(history.history['mean_absolute_error']),\n",
    "           label='Train Loss')\n",
    "    plt.plot(history.epoch, np.array(history.history['val_mean_absolute_error']),\n",
    "           label = 'Val loss')\n",
    "    plt.legend()\n",
    "    plt.ylim([0, 5])\n",
    "    \n",
    "    \n",
    "def plot_crowd_dist_4(crowd, s1, s2, s3, s4):\n",
    "    nb_bins = 8\n",
    "    fig = plt.gcf()\n",
    "    fig.set_size_inches(18.5, 10.5)\n",
    "    plt.subplot(221)\n",
    "    crowd.plot_error_dist_on_sample(s1[0], s1[1], basic_error, show = False, bins = nb_bins)\n",
    "    plt.subplot(222)\n",
    "    crowd.plot_error_dist_on_sample(s2[0], s2[1], basic_error, show = False, bins = nb_bins)\n",
    "    plt.subplot(223)\n",
    "    crowd.plot_error_dist_on_sample(s3[0], s3[1], basic_error, show = False, bins = nb_bins)\n",
    "    plt.subplot(224)\n",
    "    crowd.plot_error_dist_on_sample(s4[0], s4[1], basic_error, show = False, bins = nb_bins)\n",
    "    plt.show()"
   ]
  },
  {
   "cell_type": "markdown",
   "metadata": {},
   "source": [
    "## Preparing the data\n",
    "\n",
    "First, we need to prepare the data in a train / test split. The test part is required to have good approximation of the error on unseen data. The lab asked for a __$75$ / $25$ train / test split__, we select the samples at random to avoid training only on a subset of the data (note that this is overkill since the lab revealed us that the samples were already randomized).\n",
    "\n",
    "The matrix we used has been generated in the __preprocessing__ part of the project. It contains around 3k features instead of 15k in the original matrix.\n",
    "\n",
    "And the last, but not the least, detail : we add a random seed in our random selection to ensure __reproducibility__."
   ]
  },
  {
   "cell_type": "code",
   "execution_count": 5,
   "metadata": {},
   "outputs": [
    {
     "name": "stdout",
     "output_type": "stream",
     "text": [
      "X_red: (30049, 3004)\n",
      "y: (30049,)\n"
     ]
    }
   ],
   "source": [
    "X_red = np.load(DATA_FOLDER + \"feature_mat_radial_compression_normalized_red.npy\")\n",
    "y = np.load(DATA_FOLDER + \"CSD500-r_train-H_total.npy\")\n",
    "\n",
    "train_set_size = int(len(X_red) * TRAIN_SET_PERC)\n",
    "# Select random rows of the matrix for train / test set\n",
    "# Random seed for reproducibility \n",
    "np.random.seed(100)\n",
    "train_idx = np.random.choice(len(X_red), size=train_set_size, replace = False)\n",
    "test_idx = [i for i in range(len(X_red)) if i not in train_idx]\n",
    "X_train_red = X_red[train_idx, :]\n",
    "X_test_red = X_red[test_idx, :]\n",
    "y_train = y[train_idx]\n",
    "y_test = y[test_idx]\n",
    "print(\"X_red: \" + str(X_red.shape))\n",
    "print(\"y: \" + str(y.shape))"
   ]
  },
  {
   "cell_type": "markdown",
   "metadata": {},
   "source": [
    "# Single neural network model approach \n",
    "\n",
    "First, we want to see how well a __single neural network__ can perform on the data we have at our disposal. Highly influenced by tensorflow's tutorials and Standford University CS231n Convolutional Neural Networks for Visual Recognition lecture (http://cs231n.github.io/), we build our first neural network.\n",
    "\n",
    "We also execute __cross-validations__ on the relevant parameters to get the best RMSE out of the network."
   ]
  },
  {
   "cell_type": "code",
   "execution_count": 19,
   "metadata": {},
   "outputs": [],
   "source": [
    "def train_and_pred(nb_layers, nb_neurons, regularizer_fac, optimizer_fac):\n",
    "    # Prepare model \n",
    "    model = tf.keras.Sequential()\n",
    "    for i in range(nb_layers):\n",
    "        model.add(layers.Dense(nb_neurons, activation='relu', \\\n",
    "                               kernel_regularizer=tf.keras.regularizers.l2(regularizer_fac)))\n",
    "    # Last layer represent the electromagnetic shielding, our prediction\n",
    "    model.add(layers.Dense(1, activation='relu'))\n",
    "\n",
    "    model.compile(optimizer=tf.train.AdamOptimizer(optimizer_fac),\n",
    "                  loss='mse',\n",
    "                  # Note that the accuracy metric is useless but it doesn't compile when trying to use RMSE.\n",
    "                  metrics=['mae'])\n",
    "    EPOCHS = 200\n",
    "    BATCH_SIZE = 32\n",
    "    VALIDATION_SPLIT = 0.1\n",
    "    early_stop = tf.keras.callbacks.EarlyStopping(monitor='val_loss', patience=20)\n",
    "\n",
    "    history = model.fit(X_train_red, y_train, epochs=EPOCHS, batch_size=BATCH_SIZE, validation_split = VALIDATION_SPLIT, \\\n",
    "              callbacks=[early_stop])\n",
    "    plot_history(history)\n",
    "    \n",
    "    result = model.predict(X_test_red, batch_size=32)\n",
    "    error = rmse(result, y_test)\n",
    "    print(\"Error : {}\".format(error))\n",
    "    return error"
   ]
  },
  {
   "cell_type": "code",
   "execution_count": 2,
   "metadata": {},
   "outputs": [
    {
     "data": {
      "image/png": "[encoded data removed]",
      "text/plain": [
       "<Figure size 432x288 with 1 Axes>"
      ]
     },
     "metadata": {},
     "output_type": "display_data"
    }
   ],
   "source": [
    "errors = [0.7416394267991249, 0.6443409956831526, 0.4930030937745785, \\\n",
    "         0.453638706377575, 0.41453323956187177, 0.4311010863788413, 0.4254569121978898]\n",
    "\n",
    "x = np.logspace(-1, -9, 7)\n",
    "\n",
    "plt.semilogx(x, errors)\n",
    "plt.title(\"RMSE versus Regularization factor\")\n",
    "plt.xlabel(\"Regularizer factor\")\n",
    "plt.ylabel(\"RMSE\")\n",
    "plt.show()"
   ]
  },
  {
   "cell_type": "code",
   "execution_count": null,
   "metadata": {},
   "outputs": [],
   "source": [
    "# This will train the neural network and print its error on the test set.\n",
    "# Since tensorflow is very talkative when training a network, we remove the output for the comfort of the reader.\n",
    "error = train_and_pred(8, 156, 1e-6, 0.001)"
   ]
  },
  {
   "cell_type": "markdown",
   "metadata": {},
   "source": [
    "## Results of cross validation over regularization factor\n",
    "\n",
    "For the sake of sanity, we only display the results we obtained to avoid recomputing them. The previous graph shows evolution of the __RMSE for a single neural network versus the L2 regularization factor__.\n",
    "\n",
    "The number of layers and neurons by layers was chosen such that the model is __powerful enough__ to capture most of the complexity of the model, __overfitting being taken care with the L2-regularization__. \n",
    "\n",
    "As for the __optimizer factor__, it will not influence the accuracy of our predictions but rather the convergence time. Hence we chose a factor that allowed us to __converge while keeping a decent amount of epochs__.\n",
    "\n",
    "## Final optimized structure :\n",
    "\n",
    "- __Train / test split__ : $75$ / $25$.\n",
    "- __Number of hidden layers__ : $8$.\n",
    "- __Number of neuron / layers__ : $156$.\n",
    "- __Activations__ : Rectified Linear Unit (relu).\n",
    "- __Regularizer__ : L2 regularizer with factor $10^{-6}$.\n",
    "- __Optimizer__ : Adam Optimizer with factor $10^{-3}$.\n",
    "- __Single network error__ : 0.43."
   ]
  },
  {
   "cell_type": "markdown",
   "metadata": {},
   "source": [
    "# Crowd of Neural Networks Approach\n",
    "\n",
    "Now we try a new approach based on the *Wisdom Of Crowds* principle which states that the __average of the predictions of a crowd is almost always better than the prediction of a single expert__.\n",
    "\n",
    "Hence we will create a Crowd composed of a __multitude of networks__, train them all on the same training set and then ask them all to predict the test data. We will then __average__ their predictions to give the final answer of the crowd, counting on the randomness of the neural network algorithm to give different answers for each individual, needed assumption for the above principle to hold.\n",
    "\n",
    "Note that most of the code for this part is located in the __Crowd class__, itself defined in the file _crowd.py_.\n",
    "\n",
    "The structure of each networks we use is the optimized one we found in the previous part. Note also that the crowds are pretty long to train, to have good approximations, the more networks they have, the better. However this training should be done only once and __each network is saved__ in the directory of its crowd in the folder _session/_."
   ]
  },
  {
   "cell_type": "code",
   "execution_count": 13,
   "metadata": {},
   "outputs": [
    {
     "name": "stdout",
     "output_type": "stream",
     "text": [
      "Recovered 16 entities from session/Crowd_opt_2_8_156_relu_1e-06_0.001_mse/16\n"
     ]
    }
   ],
   "source": [
    "crowd_opt2 = crowd.Crowd(X_train_red, y_train, \"Crowd_opt_2\", nb_layers = 8, \\\n",
    "                      nb_neurons=156, regularization_factor=1e-6, validation_split = 0)\n",
    "# Recover the crowd from file.\n",
    "# The file should be located in the 'session' folder\n",
    "crowd_opt2.restore()"
   ]
  },
  {
   "cell_type": "code",
   "execution_count": 6,
   "metadata": {},
   "outputs": [],
   "source": [
    "# This will add new networks to the crowd. Note that this is a long operation (up to 2 hours for 8 entities).\n",
    "crowd_opt2.train_new_entities(8)"
   ]
  },
  {
   "cell_type": "code",
   "execution_count": 25,
   "metadata": {},
   "outputs": [
    {
     "name": "stdout",
     "output_type": "stream",
     "text": [
      "Prediction time for 7513 samples : 185.83958538400475 seconds\n",
      "RMSE : 0.35298389679256353 \n"
     ]
    }
   ],
   "source": [
    "# Predict on the test set and compute RMSE\n",
    "start = timeit.default_timer()\n",
    "pred = crowd_opt2.predict(X_test_red)\n",
    "stop = timeit.default_timer()\n",
    "error_rmse = rmse(pred, y_test)\n",
    "print('Prediction time for {} samples : {} seconds\\nRMSE : {} '.format(len(X_test_red), stop - start, error_rmse))"
   ]
  },
  {
   "cell_type": "code",
   "execution_count": 26,
   "metadata": {},
   "outputs": [
    {
     "data": {
      "image/png": "[encoded data removed]",
      "text/plain": [
       "<Figure size 432x288 with 1 Axes>"
      ]
     },
     "metadata": {},
     "output_type": "display_data"
    }
   ],
   "source": [
    "# Plot the crowd error vs the number of networks used for prediction\n",
    "crowd_opt2.plot_crowd_error(X_test_red, y_test, rmse)"
   ]
  },
  {
   "cell_type": "code",
   "execution_count": 27,
   "metadata": {},
   "outputs": [
    {
     "data": {
      "image/png": "[encoded data removed]",
      "text/plain": [
       "<Figure size 432x288 with 1 Axes>"
      ]
     },
     "metadata": {},
     "output_type": "display_data"
    }
   ],
   "source": [
    "# Plot the prediction time vs the number of networks used\n",
    "crowd_opt2.plot_crowd_pred_time(X_test_red)"
   ]
  },
  {
   "cell_type": "code",
   "execution_count": 15,
   "metadata": {},
   "outputs": [
    {
     "data": {
      "image/png": "[encoded data removed]",
      "text/plain": [
       "<Figure size 1332x756 with 4 Axes>"
      ]
     },
     "metadata": {},
     "output_type": "display_data"
    }
   ],
   "source": [
    "# Plot the distribution of the error of the different networks over a single sample\n",
    "plot_crowd_dist_4(crowd_opt2, (X_test_red[0], y_test[0]), (X_test_red[1], y_test[1]), \\\n",
    "                  (X_test_red[2], y_test[2]), (X_test_red[3], y_test[3]))"
   ]
  },
  {
   "cell_type": "markdown",
   "metadata": {},
   "source": [
    "### A wild idea : use a neural network stacked above the crowd for the prediction\n",
    "\n",
    "This idea is not detailed in the report because it doesn't bring better results than the ones we already have. And because we are limited to 4 pages for the report we had to make choices.\n",
    "\n",
    "This type of predictions __adds a neural network on top of the crowd to make the prediction__. This network will train on the whole training matrix but also on all the predictions of the other networks of the crowd. Doing so should learn it how the other networks did and it may ameliorate its predictions with this knowledge."
   ]
  },
  {
   "cell_type": "code",
   "execution_count": null,
   "metadata": {},
   "outputs": [],
   "source": [
    "# Make a prediction using a stacker at the end of the crowd\n",
    "# Again output is removed because of tensorflow verbosity.\n",
    "print(\"RMSE using stacker : {}\".format(rmse(crowd_opt2.predict_stacked(X_test_red), y_test)))"
   ]
  },
  {
   "cell_type": "markdown",
   "metadata": {},
   "source": [
    "## Conclusion\n",
    "\n",
    "Looking at the error versus the number of networks used for prediction, the results is undeniable : __the crowd definetely reduce our error in an impressive way__.\n",
    "\n",
    "We can clearly see that the error follows an __exponential decay__ when compared to the number of networks used for a __linear increase of the computation time__. From the plot of the distribution of the error over a single sample, we can see that it is more or less gaussianly distributed. However we observe that this gaussian distribution is __not centered around 0__ which means that adding more and more networks will not necessarly brought us to a RMSE of $0$. \n",
    "\n",
    "Consequently, we have to find better ways of decreasing the error.\n",
    "\n",
    "As a side note, please consider the error obtained with the stacked_prediction. Although it is not as good as the average of the predictions of the crowd (around $0.35$) it is better than the single network error (around $0.43$). Keep this in mind since it will be the starting point of our __collaborative crowds__ later.\n",
    "\n",
    "## Final structure :\n",
    "\n",
    "- Each network composing the crowd is an instance of the optimized version found in the first part.\n",
    "- 16 entities (more will bring better results but also increase the prediction time).\n",
    "- Crowd error : $0.353$."
   ]
  },
  {
   "cell_type": "markdown",
   "metadata": {},
   "source": [
    "# Mixture of experts\n",
    "\n",
    "Finally we want to test a last method : instead of assigning the same weight to the prediction of each individual of the Crowd, __we try to assign different weights__ based on ressemblance between the sample to predict and the samples on which the individual performed best. \n",
    "\n",
    "If the data is categorizable, this method may give very good results. The core code is located in the file _experts.py_."
   ]
  },
  {
   "cell_type": "code",
   "execution_count": 6,
   "metadata": {},
   "outputs": [
    {
     "name": "stdout",
     "output_type": "stream",
     "text": [
      "Recovered 8 entities from session/Experts_opt1_8_156_relu_1e-06_0.001_mse/8\n"
     ]
    }
   ],
   "source": [
    "experts01 = experts.Experts(X_train_red, y_train, \"Experts_opt1\", nb_layers = 8, \\\n",
    "                      nb_neurons=156, regularization_factor=1e-6, validation_split = 0)\n",
    "experts01.restore()"
   ]
  },
  {
   "cell_type": "code",
   "execution_count": null,
   "metadata": {},
   "outputs": [],
   "source": [
    "experts01.train_new_entities(8)"
   ]
  },
  {
   "cell_type": "markdown",
   "metadata": {},
   "source": [
    "## Prediction using gating network\n",
    "\n",
    "Here we want to train a gating network on a matrix $[(S, b)]$ where $S$ is the training samples and $b$ is the neural network that performed best on that sample. Then at prediction time, we ask to this gating network to assign to each neural network composing the crowd a probability that it should be selected. We then compute our final prediction :\n",
    "$$\\hat{y} = \\sum_{i=1}^k p_i \\hat{y}_i$$\n",
    "Where $\\hat{y}$ is the final prediction, $\\hat{y}_i$ is the prediction of network $i$ and $p_i$ is the probability that network $i$ should be selected to make the prediction according to the gating network."
   ]
  },
  {
   "cell_type": "code",
   "execution_count": null,
   "metadata": {},
   "outputs": [],
   "source": [
    "# Triggers the construction of the gating network (actual predictions will be computed in next cell for clarity)\n",
    "# Again output is removed because of the verbose of sklearn\n",
    "experts01.predict(X_test_red)"
   ]
  },
  {
   "cell_type": "code",
   "execution_count": 9,
   "metadata": {},
   "outputs": [
    {
     "data": {
      "text/plain": [
       "(0.374657711965834, 0.039667213888995106)"
      ]
     },
     "execution_count": 9,
     "metadata": {},
     "output_type": "execute_result"
    }
   ],
   "source": [
    "rmse(experts01.predict(X_test_red), y_test), \\\n",
    "rmse(experts01.predict(X_train_red), y_train)"
   ]
  },
  {
   "cell_type": "markdown",
   "metadata": {},
   "source": [
    "## Prediction using k-means clustering\n",
    "\n",
    "The previous predictions being unsuccessful, we try another approach. We will cluster the data thanks to a __k-means__ algorithm (from the library _sklearn_) and then assign to each cluster the networks that have the smallest average RMSE over the cluster. At prediction time we assign the new sample to the closest cluster and use the related networks for prediction. This may work if data belonging to a given cluster are equally well predicted by a given set of networks."
   ]
  },
  {
   "cell_type": "code",
   "execution_count": null,
   "metadata": {},
   "outputs": [],
   "source": [
    "experts01.predict_kmeans(X_test_red, rmse, 8)"
   ]
  },
  {
   "cell_type": "code",
   "execution_count": 11,
   "metadata": {},
   "outputs": [
    {
     "data": {
      "text/plain": [
       "(0.3765282421913312, 0.07056080187493417)"
      ]
     },
     "execution_count": 11,
     "metadata": {},
     "output_type": "execute_result"
    }
   ],
   "source": [
    "rmse(experts01.predict_kmeans(X_test_red, rmse, 8), y_test), \\\n",
    "rmse(experts01.predict_kmeans(X_train_red, rmse, 8), y_train)"
   ]
  },
  {
   "cell_type": "markdown",
   "metadata": {},
   "source": [
    "## Conclusion on mixture of experts\n",
    "\n",
    "None of the two algorithms described above are successful. We get good results, but nothing better than the prediction of the crowd. Hence we didn't push this idea any further. Moreover, this system is assumed to work well when the data can be categorized in subsets where some networks may perform better than others. It doesn't seem to be our case.\n",
    "\n",
    "### Best results :\n",
    "- Using deep learning categorizer : $0.375$\n",
    "- Using clustering : $0.377$"
   ]
  },
  {
   "cell_type": "markdown",
   "metadata": {},
   "source": [
    "# Collaborative crowd\n",
    "\n",
    "Let's recall the __wild idea__ we had when using the crowd of neural networks. The idea was to stack a neural network on top of the crowd and train it on the training data where we appended the predictions of the other networks of the crowd.\n",
    "\n",
    "We push this idea further and __allow each network of the crowd to access the predictions of the other networks__ previously added. This will allow the newcomer to known what the others predicted, how wrong they were and to __adjust its predictions based on this knownledge__.\n",
    "\n",
    "The core code for this part is located in _collaborative_crowd.py_."
   ]
  },
  {
   "cell_type": "code",
   "execution_count": 6,
   "metadata": {},
   "outputs": [
    {
     "name": "stdout",
     "output_type": "stream",
     "text": [
      "Recovered 16 entities from session/CollabCrowd_2_8_156_relu_1e-06_0.001_mse/16\n"
     ]
    }
   ],
   "source": [
    "cc1 = cc.CollaborativeCrowd(X_train_red, y_train, \"CollabCrowd_2\", nb_layers = 8, \\\n",
    "                      nb_neurons=156, regularization_factor=1e-6, validation_split = 0)\n",
    "cc1.restore()"
   ]
  },
  {
   "cell_type": "code",
   "execution_count": null,
   "metadata": {},
   "outputs": [],
   "source": [
    "cc1.train_new_entities(8)"
   ]
  },
  {
   "cell_type": "code",
   "execution_count": 7,
   "metadata": {},
   "outputs": [
    {
     "name": "stdout",
     "output_type": "stream",
     "text": [
      "Last entity RMSE : 0.3812139181354184\n",
      "Last 5 entities RMSE : 0.3586411031403149\n",
      "Average RMSE : 0.3489545411525422\n"
     ]
    }
   ],
   "source": [
    "last, avg, last5 = cc1.predict(X_test_red, True)\n",
    "print(\"Last entity RMSE : {}\".format(rmse(last, y_test)))\n",
    "print(\"Last 5 entities RMSE : {}\".format(rmse(last5, y_test)))\n",
    "print(\"Average RMSE : {}\".format(rmse(avg, y_test)))"
   ]
  },
  {
   "cell_type": "code",
   "execution_count": 9,
   "metadata": {},
   "outputs": [
    {
     "data": {
      "image/png": "[encoded data removed]",
      "text/plain": [
       "<Figure size 432x288 with 1 Axes>"
      ]
     },
     "metadata": {},
     "output_type": "display_data"
    }
   ],
   "source": [
    "cc1.plot_crowd_error(X_test_red, y_test, rmse)"
   ]
  },
  {
   "cell_type": "code",
   "execution_count": 11,
   "metadata": {},
   "outputs": [
    {
     "data": {
      "image/png": "[encoded data removed]",
      "text/plain": [
       "<Figure size 432x288 with 1 Axes>"
      ]
     },
     "metadata": {},
     "output_type": "display_data"
    }
   ],
   "source": [
    "cc1.plot_crowd_pred_time(X_test_red)"
   ]
  },
  {
   "cell_type": "code",
   "execution_count": 27,
   "metadata": {},
   "outputs": [
    {
     "data": {
      "image/png": "[encoded data removed]",
      "text/plain": [
       "<Figure size 1332x756 with 4 Axes>"
      ]
     },
     "metadata": {},
     "output_type": "display_data"
    }
   ],
   "source": [
    "plot_crowd_dist_4(cc1, (X_test_red[0], y_test[0]), (X_test_red[1], y_test[1]), \\\n",
    "                  (X_test_red[2], y_test[2]), (X_test_red[3], y_test[3]))"
   ]
  },
  {
   "cell_type": "markdown",
   "metadata": {},
   "source": [
    "## Results of collaborative crowd\n",
    "\n",
    "The collaborative crowd brought better results, we can observe that the __newcomers indeed have an error way smaller than the first networks__ appended to the crowd.\n",
    "\n",
    "Above you can see that the last network performed with a RMSE of $0.38$ over the test set. The new average error has dropped by around $0.004$ compared to the standard crowd which represents $1\\%$ of the error, which is a quite tiny improvement.\n",
    "\n",
    "We also remark that the __distribution of the predictions for one samples has changed__. Some samples are very well predicted (average close to 1) while some others are very far from the truth. __Further investigation on this phenomena could be conducted__, however considering the time given for this project we will not be able to dig in this area.\n",
    "\n",
    "## Final structure :\n",
    "\n",
    "- Each network composing the crowd is an instance of the optimized version found in the first part and has been trained on both the training data and the predictions of the other networks composing the crowd.\n",
    "- 16 entities (more will bring better results but also increase the prediction time).\n",
    "- Collaborative crowd error : $0.349$."
   ]
  },
  {
   "cell_type": "markdown",
   "metadata": {},
   "source": [
    "# SuperCrowd\n",
    "\n",
    "The super crowd has been made with the idea that different estimators may be __combined to offer even better estimations__. The idea behind this is to __vary the sources of biases__. Two systems may have the same bias, however it will not be distributed the same way on all the samples. Consequently some biases may balance each others on some samples and reduce the error.\n",
    "\n",
    "If we combine two models with similar RMSE, __the output of the supercrowd prediction will perform at least as well as them and there's high chances that it performs better__.\n",
    "\n",
    "The class is following the __Composite__ design pattern. Each element composing the SuperCrowd should have a predict(matix) method in order for the algorithm to work. The SuperCrowd itself may be appended to another instance of SuperCrowd.\n",
    "\n",
    "The core code of this class is located in _supercrowd.py_."
   ]
  },
  {
   "cell_type": "code",
   "execution_count": 8,
   "metadata": {},
   "outputs": [
    {
     "name": "stdout",
     "output_type": "stream",
     "text": [
      "Recovered 16 entities from session/CollabCrowd_2_8_156_relu_1e-06_0.001_mse/16\n",
      "Recovered 16 entities from session/Crowd_opt_2_8_156_relu_1e-06_0.001_mse/16\n"
     ]
    }
   ],
   "source": [
    "supercrowd = sc.SuperCrowd()\n",
    "\n",
    "cc1 = cc.CollaborativeCrowd(X_train_red, y_train, \"CollabCrowd_2\", nb_layers = 8, \\\n",
    "                      nb_neurons=156, regularization_factor=1e-6, validation_split = 0)\n",
    "cc1.restore()\n",
    "\n",
    "crowd_opt2 = crowd.Crowd(X_train_red, y_train, \"Crowd_opt_2\", nb_layers = 8, \\\n",
    "                      nb_neurons=156, regularization_factor=1e-6, validation_split = 0)\n",
    "crowd_opt2.restore()\n",
    "\n",
    "supercrowd.append_crowd(cc1)\n",
    "supercrowd.append_crowd(crowd_opt2)"
   ]
  },
  {
   "cell_type": "code",
   "execution_count": 11,
   "metadata": {},
   "outputs": [
    {
     "data": {
      "text/plain": [
       "0.3419144346517784"
      ]
     },
     "execution_count": 11,
     "metadata": {},
     "output_type": "execute_result"
    }
   ],
   "source": [
    "rmse(supercrowd.predict(X_test_red), y_test)"
   ]
  },
  {
   "cell_type": "markdown",
   "metadata": {},
   "source": [
    "## Results\n",
    "The accuracy of the prediction has been increased. However, note that the computation time is now the sum of all the computation times of all the crowds composing the supercrowd. However we remark that we reduced our RMSE of $0.008$ which is still a __good amelioration__.\n",
    "\n",
    "### Best result\n",
    "- Combinaison of the optimal crowd and the collaborative crowd described above.\n",
    "- Super Crowd error : $0.342$."
   ]
  },
  {
   "cell_type": "markdown",
   "metadata": {},
   "source": [
    "# Dropout & max-norm constraint\n",
    "\n",
    "Dropout layers combined with max-norm constraints are referenced in the litterature as a good way to avoid overfitting (N. Srebro and A. Shraibman _Rank, trace-norm and max-norm_). Since we remarked some overfit during the training of our neural network (a training error less that $0.1$ while the test error is around $0.4$ ) we wanted to see if those techniques were worth bringing in the equation. \n",
    "\n",
    "We hence execute a bunch of cross-validations on the input dropout percentage, the inter-layer dropout percentage and the max-norm value to see if we can have better results using them."
   ]
  },
  {
   "cell_type": "code",
   "execution_count": 15,
   "metadata": {},
   "outputs": [],
   "source": [
    "def cv_dropout_maxnorm(df_in, df_hidden, max_norm):\n",
    "    model = tf.keras.Sequential()\n",
    "    model.add(layers.Dropout(df_in))\n",
    "    for i in range(8):\n",
    "        model.add(layers.Dense(156, activation='relu', \\\n",
    "                               kernel_regularizer=tf.keras.regularizers.l2(1e-6), \\\n",
    "                               kernel_constraint=MaxNorm(max_norm)))\n",
    "        model.add(layers.Dropout(df_hidden))\n",
    "    # Last layer represent the electromagnetic shielding, our prediction\n",
    "    model.add(layers.Dense(1, activation='relu'))\n",
    "\n",
    "    model.compile(optimizer=tf.train.AdamOptimizer(0.001),\n",
    "                  loss='mse',\n",
    "                  # Note that the accuracy metric is useless but it doesn't compile when trying to use RMSE.\n",
    "                  metrics=['mae'])\n",
    "    EPOCHS = 200\n",
    "    BATCH_SIZE = 32\n",
    "    VALIDATION_SPLIT = 0.1\n",
    "    early_stop = tf.keras.callbacks.EarlyStopping(monitor='val_loss', patience=20)\n",
    "\n",
    "    history = model.fit(X_train_red, y_train, epochs=EPOCHS, batch_size=BATCH_SIZE, validation_split = VALIDATION_SPLIT, \\\n",
    "              callbacks=[early_stop])\n",
    "    plot_history(history)\n",
    "\n",
    "    result = model.predict(X_test_red, batch_size=32)\n",
    "    error = rmse(result, y_test)\n",
    "    print(\"Error : {}\".format(error))\n",
    "    return error"
   ]
  },
  {
   "cell_type": "code",
   "execution_count": null,
   "metadata": {},
   "outputs": [],
   "source": [
    "# Cross validation on the dropout percentage on the input, the one between the layers and the max-norm.\n",
    "# Again we don't display the run for clarity purposes\n",
    "errors = []\n",
    "for df_in in [0.2, 0.3]:\n",
    "    print(\"df_in = \" + str(df_in))\n",
    "    for df_hidden in [0.4, 0.5]:\n",
    "        print(\"    df_hidden = \" + str(df_hidden))\n",
    "        for max_norm in [3, 4]:\n",
    "            print(\"        max_norm = \" + str(max_norm))\n",
    "            errors.append(cv_dropout_maxnorm(df_in, df_hidden, max_norm))"
   ]
  },
  {
   "cell_type": "markdown",
   "metadata": {},
   "source": [
    "### Conclusion on dropout & max-norm\n",
    "\n",
    "Those techniques don't bring better results than what we already have. Even after trying with several different combinaisons, we couldn't do better than $0.45$ for a single network RMSE. "
   ]
  },
  {
   "cell_type": "markdown",
   "metadata": {},
   "source": [
    "# Collaborative Crowd on jittered matrix\n",
    "\n",
    "Another good way to increase performances of a neural network is to artificially add samples to the matrix we already have."
   ]
  },
  {
   "cell_type": "code",
   "execution_count": 5,
   "metadata": {},
   "outputs": [
    {
     "data": {
      "text/plain": [
       "((22761, 3004), (22761,), (7513, 3004), (7513,))"
      ]
     },
     "execution_count": 5,
     "metadata": {},
     "output_type": "execute_result"
    }
   ],
   "source": [
    "X_train_red = np.load(DATA_FOLDER + \"x_pca_train.npy\")\n",
    "y_train = np.load(DATA_FOLDER + \"y_pca_train.npy\")\n",
    "X_test_red = np.load(DATA_FOLDER + \"x_pca_test.npy\")\n",
    "y_test = np.load(DATA_FOLDER + \"y_pca_test.npy\")\n",
    "X_train_red.shape, y_train.shape, X_test_red.shape, y_test.shape"
   ]
  },
  {
   "cell_type": "code",
   "execution_count": 6,
   "metadata": {},
   "outputs": [
    {
     "name": "stdout",
     "output_type": "stream",
     "text": [
      "No directory with name session/CollabCrowd_jitter_8_156_relu_1e-06_0.001_mse\n"
     ]
    }
   ],
   "source": [
    "cc_jitt = cc.CollaborativeCrowd(X_train_red, y_train, \"CollabCrowd_jitter\", nb_layers = 8, \\\n",
    "                      nb_neurons=156, regularization_factor=1e-6, validation_split = 0)\n",
    "cc_jitt.restore()"
   ]
  },
  {
   "cell_type": "code",
   "execution_count": null,
   "metadata": {},
   "outputs": [],
   "source": [
    "cc_jitt.train_new_entities(1)"
   ]
  },
  {
   "cell_type": "code",
   "execution_count": 9,
   "metadata": {},
   "outputs": [
    {
     "data": {
      "text/plain": [
       "3.117733862088689"
      ]
     },
     "execution_count": 9,
     "metadata": {},
     "output_type": "execute_result"
    }
   ],
   "source": [
    "avg = cc_jitt.predict(X_test_red)\n",
    "rmse(avg, y_test)"
   ]
  },
  {
   "cell_type": "markdown",
   "metadata": {},
   "source": [
    "## Results\n",
    "\n",
    "Here the results are a disaster. Maybe the jittering is to strong or maybe this type of jittering is not ideal for big deep learning neural networks that are able to fit the data very well. Also the jittering has been added without changing the prediction, no garantees are given that the data created this way is valid."
   ]
  },
  {
   "cell_type": "markdown",
   "metadata": {},
   "source": [
    "# Conclusion on Deep Learning\n",
    "\n",
    "The results we have for different architecture we implemented propose a significant increase in accuracy compared to standard Machine Learning techniques. The results suggest to continue digging in the area of Deep Learning to decrease the errors even further as it seems to suit their problem better."
   ]
  }
 ],
 "metadata": {
  "kernelspec": {
   "display_name": "Python 3",
   "language": "python",
   "name": "python3"
  },
  "language_info": {
   "codemirror_mode": {
    "name": "ipython",
    "version": 3
   },
   "file_extension": ".py",
   "mimetype": "text/x-python",
   "name": "python",
   "nbconvert_exporter": "python",
   "pygments_lexer": "ipython3",
   "version": "3.6.7"
  }
 },
 "nbformat": 4,
 "nbformat_minor": 2
}
