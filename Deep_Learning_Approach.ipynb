{
 "cells": [
  {
   "cell_type": "code",
   "execution_count": 31,
   "metadata": {},
   "outputs": [
    {
     "name": "stdout",
     "output_type": "stream",
     "text": [
      "Once deleted, variables cannot be recovered. Proceed (y/[n])? y\n"
     ]
    }
   ],
   "source": [
    "# Clean up the memory\n",
    "%reset"
   ]
  },
  {
   "cell_type": "code",
   "execution_count": 1,
   "metadata": {},
   "outputs": [],
   "source": [
    "import gc\n",
    "\n",
    "import numpy as np\n",
    "import math\n",
    "\n",
    "import tensorflow as tf\n",
    "from tensorflow.keras import layers\n",
    "\n",
    "import matplotlib.pyplot as plt"
   ]
  },
  {
   "cell_type": "code",
   "execution_count": 2,
   "metadata": {},
   "outputs": [],
   "source": [
    "DATA_FOLDER = \"data/\"\n",
    "SESSION_FOLDER = \"session/\""
   ]
  },
  {
   "cell_type": "code",
   "execution_count": 3,
   "metadata": {},
   "outputs": [],
   "source": [
    "def save_session(filename, nb_iterations = -1):\n",
    "    '''\n",
    "    Saves a seesion in a file with the given filename\n",
    "    A number of iterations can also be given \n",
    "    :param : String\n",
    "    :param : int\n",
    "    '''\n",
    "    saver = tf.train.Saver()\n",
    "    sess = tf.Session()\n",
    "    sess.run(tf.global_variables_initializer())\n",
    "    \n",
    "    if nb_iterations >= 0:\n",
    "        saver.save(sess, SESSION_FOLDER + filename, global_step=nb_iterations)\n",
    "    else:\n",
    "        saver.save(sess, SESSION_FOLDER + filename)\n",
    "        \n",
    "    print(\"Session saved with filename {}.\".format(filename))\n",
    "    \n",
    "def restore_session(filename):\n",
    "    '''\n",
    "    Restores a tensorflow session stored in the given filename\n",
    "    After the call of this function, the sessios's variable will be available again\n",
    "    :param : String\n",
    "    '''\n",
    "    with tf.Session() as sess:\n",
    "        new_saver = tf.train.import_meta_graph(SESSION_FOLDER + filename + '.meta')\n",
    "        new_saver.restore(sess, tf.train.latest_checkpoint('./'))\n",
    "        \n",
    "def garbage_collection():\n",
    "    '''\n",
    "    Calls garbage collection to clean unused memory\n",
    "    '''\n",
    "    gc.collect()"
   ]
  },
  {
   "cell_type": "code",
   "execution_count": 4,
   "metadata": {},
   "outputs": [],
   "source": [
    "def rmse(pred, real, loop = True):\n",
    "    '''\n",
    "    Computes RMSE between predictions and real values\n",
    "    :param : float[]\n",
    "    :param : float[]\n",
    "    :return : float\n",
    "    '''\n",
    "    if len(pred) != len(real):\n",
    "        print(\"RMSE Error : Predictions and real values arrays do not have the same length, aborting.\")\n",
    "        return None\n",
    "    \n",
    "    if loop:\n",
    "        mse = 0\n",
    "        for i in range(len(pred)):\n",
    "            mse += (pred[i] - real[i])**2\n",
    "        return math.sqrt(2*mse/len(pred))\n",
    "    else:\n",
    "        # The creation of the array may produce memory error\n",
    "        err = pred - real\n",
    "        mse = err.T @ err\n",
    "        return math.sqrt(2 * mse / len(pred))"
   ]
  },
  {
   "cell_type": "code",
   "execution_count": 5,
   "metadata": {},
   "outputs": [],
   "source": [
    "def plot_history(history):\n",
    "    '''\n",
    "    Plots the history of the training error\n",
    "    Usefull \n",
    "    '''\n",
    "    plt.figure()\n",
    "    plt.xlabel('Epoch')\n",
    "    plt.ylabel('Mean Abs Error [1000$]')\n",
    "    plt.plot(history.epoch, np.array(history.history['mean_absolute_error']),\n",
    "           label='Train Loss')\n",
    "    plt.plot(history.epoch, np.array(history.history['val_mean_absolute_error']),\n",
    "           label = 'Val loss')\n",
    "    plt.legend()\n",
    "    plt.ylim([0, 5])"
   ]
  },
  {
   "cell_type": "code",
   "execution_count": 6,
   "metadata": {},
   "outputs": [],
   "source": [
    "# Use non normalized feature matrix\n",
    "# For now best results are given with this one\n",
    "X = np.load(DATA_FOLDER + \"feature_mat_radial_compression.npy\")\n",
    "\n",
    "# Use normalized feature matrix\n",
    "#X = np.load(DATA_FOLDER + \"feature_mat_radial_compression_normalized.npy\")\n",
    "y = np.load(DATA_FOLDER + \"CSD500-r_train-H_total.npy\")\n",
    "\n",
    "#X = normalize(X)"
   ]
  },
  {
   "cell_type": "code",
   "execution_count": 7,
   "metadata": {},
   "outputs": [
    {
     "name": "stdout",
     "output_type": "stream",
     "text": [
      "X: (30049, 15961)\n",
      "y: (30049,)\n"
     ]
    }
   ],
   "source": [
    "print(\"X: \" + str(X.shape))\n",
    "print(\"y: \" + str(y.shape))"
   ]
  },
  {
   "cell_type": "markdown",
   "metadata": {},
   "source": [
    "# Single neural network model approach\n",
    "\n",
    "First we will do a single model approach, the goal is to see quickly how we can build a model using neural networks and how well it does. "
   ]
  },
  {
   "cell_type": "code",
   "execution_count": 8,
   "metadata": {},
   "outputs": [],
   "source": [
    "# Clean up as much memory as possible before starting\n",
    "garbage_collection()\n",
    "\n",
    "# Prepare model \n",
    "model = tf.keras.Sequential([\n",
    "    # Assuming each layer represent a link between particules, we begin with 4 layers\n",
    "    layers.Dense(64, activation='relu'),\n",
    "    layers.Dense(64, activation='relu'),\n",
    "    layers.Dense(64, activation='relu'),\n",
    "    layers.Dense(64, activation='relu'),\n",
    "    # Last layer represent the electromagnetic shielding, our prediction\n",
    "    layers.Dense(1, activation='relu')])\n",
    "\n",
    "model.compile(optimizer=tf.train.RMSPropOptimizer(0.001),\n",
    "              loss='mse',\n",
    "              # Note that the accuracy metric is useless but it doesn't compile when trying to use RMSE.\n",
    "              metrics=['mae'])"
   ]
  },
  {
   "cell_type": "code",
   "execution_count": 9,
   "metadata": {},
   "outputs": [
    {
     "name": "stdout",
     "output_type": "stream",
     "text": [
      "Train on 24039 samples, validate on 6010 samples\n",
      "Epoch 1/100\n",
      "24039/24039 [==============================] - 8s 328us/step - loss: 31.2613 - mean_absolute_error: 2.6472 - val_loss: 2.1992 - val_mean_absolute_error: 1.1006\n",
      "Epoch 2/100\n",
      "24039/24039 [==============================] - 7s 282us/step - loss: 2.4422 - mean_absolute_error: 1.2500 - val_loss: 2.9184 - val_mean_absolute_error: 1.4392\n",
      "Epoch 3/100\n",
      "24039/24039 [==============================] - 7s 280us/step - loss: 1.9160 - mean_absolute_error: 1.1136 - val_loss: 2.9265 - val_mean_absolute_error: 1.4679\n",
      "Epoch 4/100\n",
      "24039/24039 [==============================] - 7s 277us/step - loss: 1.6569 - mean_absolute_error: 1.0454 - val_loss: 2.1024 - val_mean_absolute_error: 1.2046\n",
      "Epoch 5/100\n",
      "24039/24039 [==============================] - 7s 283us/step - loss: 1.4973 - mean_absolute_error: 1.0088 - val_loss: 0.9122 - val_mean_absolute_error: 0.7115\n",
      "Epoch 6/100\n",
      "24039/24039 [==============================] - 7s 296us/step - loss: 1.3447 - mean_absolute_error: 0.9513 - val_loss: 1.3779 - val_mean_absolute_error: 0.9644\n",
      "Epoch 7/100\n",
      "24039/24039 [==============================] - 7s 302us/step - loss: 1.2291 - mean_absolute_error: 0.9097 - val_loss: 3.0889 - val_mean_absolute_error: 1.5705\n",
      "Epoch 8/100\n",
      "24039/24039 [==============================] - 7s 292us/step - loss: 1.1530 - mean_absolute_error: 0.8801 - val_loss: 4.0965 - val_mean_absolute_error: 1.8697\n",
      "Epoch 9/100\n",
      "24039/24039 [==============================] - 7s 274us/step - loss: 1.0590 - mean_absolute_error: 0.8381 - val_loss: 1.3551 - val_mean_absolute_error: 0.9520\n",
      "Epoch 10/100\n",
      "24039/24039 [==============================] - 7s 271us/step - loss: 0.9849 - mean_absolute_error: 0.8118 - val_loss: 1.3901 - val_mean_absolute_error: 0.9788\n",
      "Epoch 11/100\n",
      "24039/24039 [==============================] - 7s 274us/step - loss: 0.9393 - mean_absolute_error: 0.7997 - val_loss: 0.9553 - val_mean_absolute_error: 0.7654\n",
      "Epoch 12/100\n",
      "24039/24039 [==============================] - 7s 282us/step - loss: 0.8796 - mean_absolute_error: 0.7675 - val_loss: 0.7976 - val_mean_absolute_error: 0.6655\n",
      "Epoch 13/100\n",
      "24039/24039 [==============================] - 7s 290us/step - loss: 0.8185 - mean_absolute_error: 0.7355 - val_loss: 0.9897 - val_mean_absolute_error: 0.7850\n",
      "Epoch 14/100\n",
      "24039/24039 [==============================] - 7s 281us/step - loss: 0.7842 - mean_absolute_error: 0.7236 - val_loss: 1.0486 - val_mean_absolute_error: 0.8171\n",
      "Epoch 15/100\n",
      "24039/24039 [==============================] - 7s 280us/step - loss: 0.7469 - mean_absolute_error: 0.7110 - val_loss: 1.5718 - val_mean_absolute_error: 1.0818\n",
      "Epoch 16/100\n",
      "24039/24039 [==============================] - 7s 286us/step - loss: 0.7040 - mean_absolute_error: 0.6883 - val_loss: 1.5774 - val_mean_absolute_error: 1.0657\n",
      "Epoch 17/100\n",
      "24039/24039 [==============================] - 7s 285us/step - loss: 0.6897 - mean_absolute_error: 0.6918 - val_loss: 1.0690 - val_mean_absolute_error: 0.8441\n",
      "Epoch 18/100\n",
      "24039/24039 [==============================] - 7s 289us/step - loss: 0.6632 - mean_absolute_error: 0.6681 - val_loss: 1.7338 - val_mean_absolute_error: 1.1319\n",
      "Epoch 19/100\n",
      "24039/24039 [==============================] - 6s 264us/step - loss: 0.6386 - mean_absolute_error: 0.6572 - val_loss: 0.6482 - val_mean_absolute_error: 0.5959\n",
      "Epoch 20/100\n",
      "24039/24039 [==============================] - 6s 260us/step - loss: 0.6168 - mean_absolute_error: 0.6438 - val_loss: 0.5771 - val_mean_absolute_error: 0.5510\n",
      "Epoch 21/100\n",
      "24039/24039 [==============================] - 6s 263us/step - loss: 0.5917 - mean_absolute_error: 0.6358 - val_loss: 0.6981 - val_mean_absolute_error: 0.6230\n",
      "Epoch 22/100\n",
      "24039/24039 [==============================] - 6s 260us/step - loss: 0.5711 - mean_absolute_error: 0.6205 - val_loss: 1.4834 - val_mean_absolute_error: 1.0307\n",
      "Epoch 23/100\n",
      "24039/24039 [==============================] - 6s 265us/step - loss: 0.5486 - mean_absolute_error: 0.6045 - val_loss: 1.1391 - val_mean_absolute_error: 0.8711\n",
      "Epoch 24/100\n",
      "24039/24039 [==============================] - 6s 262us/step - loss: 0.5360 - mean_absolute_error: 0.5950 - val_loss: 0.8146 - val_mean_absolute_error: 0.6906\n",
      "Epoch 25/100\n",
      "24039/24039 [==============================] - 6s 261us/step - loss: 0.5139 - mean_absolute_error: 0.5841 - val_loss: 0.6198 - val_mean_absolute_error: 0.5770\n",
      "Epoch 26/100\n",
      "24039/24039 [==============================] - 6s 262us/step - loss: 0.4956 - mean_absolute_error: 0.5770 - val_loss: 0.8478 - val_mean_absolute_error: 0.7272\n",
      "Epoch 27/100\n",
      "24039/24039 [==============================] - 6s 260us/step - loss: 0.4904 - mean_absolute_error: 0.5758 - val_loss: 0.8410 - val_mean_absolute_error: 0.7209\n",
      "Epoch 28/100\n",
      "24039/24039 [==============================] - 6s 263us/step - loss: 0.4652 - mean_absolute_error: 0.5520 - val_loss: 0.6497 - val_mean_absolute_error: 0.6035\n",
      "Epoch 29/100\n",
      "24039/24039 [==============================] - 6s 262us/step - loss: 0.4676 - mean_absolute_error: 0.5657 - val_loss: 1.5541 - val_mean_absolute_error: 1.0504\n",
      "Epoch 30/100\n",
      "24039/24039 [==============================] - 6s 258us/step - loss: 0.4559 - mean_absolute_error: 0.5575 - val_loss: 0.5759 - val_mean_absolute_error: 0.5501\n",
      "Epoch 31/100\n",
      "24039/24039 [==============================] - 6s 262us/step - loss: 0.4480 - mean_absolute_error: 0.5419 - val_loss: 0.9011 - val_mean_absolute_error: 0.7472\n",
      "Epoch 32/100\n",
      "24039/24039 [==============================] - 6s 258us/step - loss: 0.4376 - mean_absolute_error: 0.5429 - val_loss: 0.6168 - val_mean_absolute_error: 0.5799\n",
      "Epoch 33/100\n",
      "24039/24039 [==============================] - 6s 260us/step - loss: 0.4291 - mean_absolute_error: 0.5409 - val_loss: 1.2154 - val_mean_absolute_error: 0.9330\n",
      "Epoch 34/100\n",
      "24039/24039 [==============================] - 6s 260us/step - loss: 0.4182 - mean_absolute_error: 0.5301 - val_loss: 0.9707 - val_mean_absolute_error: 0.7945\n",
      "Epoch 35/100\n",
      "24039/24039 [==============================] - 6s 259us/step - loss: 0.4026 - mean_absolute_error: 0.5220 - val_loss: 0.5942 - val_mean_absolute_error: 0.5624\n",
      "Epoch 36/100\n",
      "24039/24039 [==============================] - 6s 260us/step - loss: 0.4018 - mean_absolute_error: 0.5232 - val_loss: 0.7025 - val_mean_absolute_error: 0.6449\n",
      "Epoch 37/100\n",
      "24039/24039 [==============================] - 6s 257us/step - loss: 0.3911 - mean_absolute_error: 0.5132 - val_loss: 0.6945 - val_mean_absolute_error: 0.6328\n",
      "Epoch 38/100\n",
      "24039/24039 [==============================] - 6s 260us/step - loss: 0.3835 - mean_absolute_error: 0.5098 - val_loss: 0.9743 - val_mean_absolute_error: 0.7983\n",
      "Epoch 39/100\n",
      "24039/24039 [==============================] - 6s 258us/step - loss: 0.3780 - mean_absolute_error: 0.5062 - val_loss: 0.6623 - val_mean_absolute_error: 0.6118\n",
      "Epoch 40/100\n",
      "24039/24039 [==============================] - 6s 258us/step - loss: 0.3741 - mean_absolute_error: 0.5023 - val_loss: 0.6932 - val_mean_absolute_error: 0.6355\n",
      "_________________________________________________________________\n",
      "Layer (type)                 Output Shape              Param #   \n",
      "=================================================================\n",
      "dense (Dense)                multiple                  1021568   \n",
      "_________________________________________________________________\n",
      "dense_1 (Dense)              multiple                  4160      \n",
      "_________________________________________________________________\n",
      "dense_2 (Dense)              multiple                  4160      \n",
      "_________________________________________________________________\n",
      "dense_3 (Dense)              multiple                  4160      \n",
      "_________________________________________________________________\n",
      "dense_4 (Dense)              multiple                  65        \n",
      "=================================================================\n",
      "Total params: 1,034,113\n",
      "Trainable params: 1,034,113\n",
      "Non-trainable params: 0\n",
      "_________________________________________________________________\n"
     ]
    }
   ],
   "source": [
    "# We train the model on our data\n",
    "# Number of epochs the network should run through\n",
    "EPOCHS = 100\n",
    "# Size of the batch for optimization\n",
    "BATCH_SIZE = 32\n",
    "# Set up validation split\n",
    "VALIDATION_SPLIT = 0.2\n",
    "# The patience parameter is the amount of epochs to check for improvement\n",
    "# This will avoid overfitting\n",
    "early_stop = tf.keras.callbacks.EarlyStopping(monitor='val_loss', patience=10)\n",
    "\n",
    "history = model.fit(X, y, epochs=EPOCHS, batch_size=BATCH_SIZE, validation_split = VALIDATION_SPLIT, \\\n",
    "          callbacks=[early_stop])\n",
    "model.summary()"
   ]
  },
  {
   "cell_type": "code",
   "execution_count": 10,
   "metadata": {},
   "outputs": [
    {
     "data": {
      "image/png": "[encoded data removed]",
      "text/plain": [
       "<Figure size 432x288 with 1 Axes>"
      ]
     },
     "metadata": {},
     "output_type": "display_data"
    }
   ],
   "source": [
    "plot_history(history)"
   ]
  },
  {
   "cell_type": "code",
   "execution_count": 11,
   "metadata": {},
   "outputs": [
    {
     "data": {
      "text/plain": [
       "0.8584572139402442"
      ]
     },
     "execution_count": 11,
     "metadata": {},
     "output_type": "execute_result"
    }
   ],
   "source": [
    "result = model.predict(X, batch_size=32)\n",
    "rmse(result, y)"
   ]
  },
  {
   "cell_type": "markdown",
   "metadata": {},
   "source": [
    "## Results\n",
    "\n",
    "For the following model :\n",
    "    - 4 hidden layers of 64 neurons - relu activation.\n",
    "    - A result layer of 1 neuron - relu activation.\n",
    "    - Trained on 10 epochs.\n",
    "    - No cross validation.\n",
    "The MSE obtained is 0.2768, RMSE is 0.6349"
   ]
  }
 ],
 "metadata": {
  "kernelspec": {
   "display_name": "Python 3",
   "language": "python",
   "name": "python3"
  },
  "language_info": {
   "codemirror_mode": {
    "name": "ipython",
    "version": 3
   },
   "file_extension": ".py",
   "mimetype": "text/x-python",
   "name": "python",
   "nbconvert_exporter": "python",
   "pygments_lexer": "ipython3",
   "version": "3.6.6"
  }
 },
 "nbformat": 4,
 "nbformat_minor": 2
}
